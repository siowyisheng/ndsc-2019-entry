{
 "cells": [
  {
   "cell_type": "markdown",
   "metadata": {
    "_cell_guid": "b1076dfc-b9ad-4769-8c92-a6c4dae69d19",
    "_uuid": "8f2839f25d086af736a60e9eeb907d3b93b6e0e5"
   },
   "source": [
    "# Instruction to set up a baseline CNN to train an image classifier\n",
    "\n",
    "In this tutorial, I will show you how to train a simple CNN on the beauty image subset. Here are what you need:\n",
    "- `keras` installed, with GPU.\n",
    "-  enough space to extract the dataset; ideally, it should be at least 90GB. FYI, the format `.tar.gz`, as in `beauty_image.tar.gz`, is in fact a file name extension indicating this is a compressed file, similar to `.zip`.  I used Hamster Zip Archiver software (Windows) to extract, even though it is easier to do so in Linux, i.e. type in the terminal\n",
    "```sh\n",
    "tar -zxvf yourfile.tar.gz\n",
    "```\n",
    "\n",
    "You can then set up a simple CNN as following steps:\n",
    "1. Reorganize directory tree\n",
    "2. Train a CNN for beauty images.\n",
    "\n",
    "> **NOTE**: ignore the warning error here and run it on your local machine. \n"
   ]
  },
  {
   "cell_type": "markdown",
   "metadata": {
    "_cell_guid": "79c7e3d0-c299-4dcb-8224-4455121ee9b0",
    "_uuid": "d629ff2d2480ee46fbb7e2d37f6b5fab8052498a",
    "collapsed": true
   },
   "source": [
    "# 1. Reorganize directory tree\n",
    "\n",
    "You should have directory tree with following structure:\n",
    "```\n",
    "NDSC_project    \n",
    "|-- train.csv\n",
    "|-- test.csv\n",
    "|-- this_jupyter_notebook.ipynb\n",
    "|-- categories.json\n",
    "|-- beauty_image\n",
    "|   |-- 000004d60c92af4390399d71a305f64b.jpg\n",
    "|   |-- 0000113904d1bc15232ee3b8a5432254.jpg\n",
    "|   |-- ...\n",
    "|-- fashion_image\n",
    "|   |-- 000006831bfaf0e3b5ce3564a10e6dd4.jpg\n",
    "|   |-- 6819bac64db6f99d6dc37a897c0e9651.jpg\n",
    "|   |-- ...\n",
    "|-- mobile_image\n",
    "|   |-- 0000456f97a4805ba4960084ffc8c058.jpg\n",
    "|   |-- 454bdaf9438c099583957964914ffbe5.jpg\n",
    "|   |-- ...\n",
    "```"
   ]
  },
  {
   "cell_type": "code",
   "execution_count": 2,
   "metadata": {
    "_uuid": "69cd812ed34a95a5e939a69f934003b122e133c5"
   },
   "outputs": [
    {
     "name": "stdout",
     "output_type": "stream",
     "text": [
      "Current directory: /Users/pengyu/Projects/ndsc\n"
     ]
    }
   ],
   "source": [
    "%matplotlib inline\n",
    "\n",
    "import pandas as pd\n",
    "import os\n",
    "import sys\n",
    "\n",
    "# check the current directory\n",
    "cwd = os.getcwd()\n",
    "print ('Current directory: {}'.format(cwd))\n",
    "\n",
    "# create new directories\n",
    "new_folder_paths = ['Train',\n",
    "                    os.path.join('Train','Beauty'),\n",
    "                    os.path.join('Train','Fashion'),\n",
    "                    os.path.join('Train','Mobile'),\n",
    "                    'Test',\n",
    "                    os.path.join('Test','Beauty'),\n",
    "                    os.path.join('Test','Fashion'),\n",
    "                    os.path.join('Test','Mobile')]\n",
    "\n",
    "for folder_path in new_folder_paths:\n",
    "    if (os.path.isdir(folder_path) is False):\n",
    "        os.mkdir(folder_path)\n",
    "\n",
    "'''\n",
    "We now reorganize image files in training set\n",
    "'''\n",
    "\n",
    "train_data = pd.read_csv('train.csv')\n",
    "n_labels = 58\n",
    "folder_path_dict = {i:'Beauty' for i in range(17)}\n",
    "folder_path_dict.update({i:'Fashion' for i in range(17, 31, 1)})\n",
    "folder_path_dict.update({i:'Mobile' for i in range(31, 58, 1)})\n",
    "\n",
    "\n",
    "for category in range(n_labels):\n",
    "        \n",
    "    category_img_paths = train_data[train_data['Category']==category]['image_path'].values.tolist()\n",
    "    folder_path = os.path.join('Train', folder_path_dict[category], str(category))\n",
    "\n",
    "    if (os.path.isdir(folder_path) is False):\n",
    "        os.mkdir(folder_path)\n",
    "\n",
    "    for img_path in category_img_paths:\n",
    "        img_name = img_path.split('/')[1]\n",
    "        \n",
    "        # some image paths does not contain file extension\n",
    "        if (img_name[-4:] != '.jpg'):\n",
    "            img_name += '.jpg'\n",
    "            img_path += '.jpg'\n",
    "            \n",
    "        # if there is no image found, just pass and we will have a look later on\n",
    "        try:\n",
    "            os.rename(img_path, os.path.join(folder_path, img_name))\n",
    "        except FileNotFoundError:\n",
    "            pass\n",
    "\n",
    "test_data = pd.read_csv('test.csv')\n",
    "category_img_paths = test_data['image_path'].values.tolist()\n",
    "for img_path in category_img_paths:\n",
    "    img_master_label, img_name = img_path.split('/')\n",
    "    \n",
    "    if (img_master_label == 'beauty_image'):\n",
    "        folder_path = os.path.join('Test', 'Beauty')\n",
    "    elif (img_master_label == 'fashion_image'):\n",
    "        folder_path = os.path.join('Test', 'Fashion')\n",
    "    else:\n",
    "        folder_path = os.path.join('Test', 'Mobile')\n",
    "        \n",
    "    if (img_name[-4:] != '.jpg'):\n",
    "            img_name += '.jpg'\n",
    "            img_path += '.jpg'\n",
    "      \n",
    "    try:\n",
    "        os.rename(img_path, os.path.join(folder_path, img_name))\n",
    "    except FileNotFoundError:\n",
    "        pass"
   ]
  },
  {
   "cell_type": "markdown",
   "metadata": {
    "_uuid": "1c047ae630913153716359c7f781148710162fc9"
   },
   "source": [
    "It may take up to 40 minutes to finish copying files. The goal of the script is to re-organize the whole image dataset in such a way that it is easy to load and train. You can find 2 news folders:\n",
    "```\n",
    "NDSC_project    \n",
    "|-- Train\n",
    "|   |-- Beauty\n",
    "|   |   |-- 0\n",
    "|   |   |-- 1 \n",
    "|   |   |-- ...\n",
    "|   |-- Fashion\n",
    "|   |   |-- 17\n",
    "|   |   |-- 18 \n",
    "|   |   |-- ...\n",
    "|   |-- Mobile\n",
    "|   |   |-- 31\n",
    "|   |   |-- 32\n",
    "|   |   |-- ...\n",
    "|-- Test\n",
    "|   |-- Beauty\n",
    "|   |-- Fashion\n",
    "|   |-- Mobile\n",
    "```"
   ]
  },
  {
   "cell_type": "markdown",
   "metadata": {
    "_uuid": "9ab7100f74cdd8210a36f04de305c855033657df"
   },
   "source": [
    "# 2. Train a CNN for beauty images."
   ]
  },
  {
   "cell_type": "code",
   "execution_count": 6,
   "metadata": {
    "_uuid": "93c518a2322621371f77b16c43943079db790270",
    "collapsed": true
   },
   "outputs": [],
   "source": [
    "import json\n",
    "\n",
    "with open('categories.json') as json_file:\n",
    "    labels = json.load(json_file)\n",
    "numerical2label = {}\n",
    "\n",
    "for master_label in labels.keys():\n",
    "    master_dict = labels[master_label]\n",
    "    for item_name, item_idx in master_dict.items():\n",
    "        numerical2label[item_idx] = item_name\n",
    "        \n",
    "label2numerical = {}\n",
    "for item_idx, item_name in numerical2label.items():\n",
    "    label2numerical[item_name] = item_idx"
   ]
  },
  {
   "cell_type": "code",
   "execution_count": 7,
   "metadata": {
    "_uuid": "8f261d7cf579a1527201ec5d4737d03cade6a35d",
    "collapsed": true
   },
   "outputs": [],
   "source": [
    "# Source: https://github.com/fchollet/deep-learning-with-python-notebooks/blob/master/5.2-using-convnets-with-small-datasets.ipynb\n",
    "import os, shutil\n",
    "\n",
    "\n",
    "# Directories for our training,\n",
    "# validation and test splits\n",
    "base_dir = os.path.join(os.getcwd(), 'Train', 'Beauty')\n",
    "train_dir = os.path.join(base_dir, 'train')\n",
    "try:\n",
    "    os.mkdir(train_dir)\n",
    "except:\n",
    "    pass\n",
    "validation_dir = os.path.join(base_dir, 'validate')\n",
    "try:\n",
    "    os.mkdir(validation_dir)\n",
    "except:\n",
    "    pass\n",
    "test_dir = os.path.join(base_dir, 'test')\n",
    "try:\n",
    "    os.mkdir(test_dir)\n",
    "except:\n",
    "    pass\n",
    "\n",
    "# Directory with our training categories\n",
    "n_labels = 17\n",
    "for category_id in range(n_labels):\n",
    "    category_name = numerical2label[category_id]\n",
    "    train_category_dir = os.path.join(train_dir, category_name)\n",
    "    if (os.path.isdir(train_category_dir) is False):\n",
    "        os.mkdir(train_category_dir)\n",
    "\n",
    "# Directory with our validation categories\n",
    "for category_id in range(n_labels):\n",
    "    category_name = numerical2label[category_id]\n",
    "    validation_category_dir = os.path.join(validation_dir, category_name)\n",
    "    if (os.path.isdir(validation_category_dir) is False):\n",
    "        os.mkdir(validation_category_dir)\n",
    "\n",
    "# Directory with our test categories\n",
    "for category_id in range(n_labels):\n",
    "    category_name = numerical2label[category_id]\n",
    "    test_category_dir = os.path.join(test_dir, category_name)\n",
    "    if (os.path.isdir(test_category_dir) is False):\n",
    "        os.mkdir(test_category_dir)"
   ]
  },
  {
   "cell_type": "code",
   "execution_count": 8,
   "metadata": {
    "_uuid": "9e2884a50c6d3950da00acc4568491008b781b39"
   },
   "outputs": [
    {
     "name": "stdout",
     "output_type": "stream",
     "text": [
      "Category Face Palette|0 \t has 3772 images.\n",
      "Category Foundation|1 \t has 28670 images.\n",
      "Category Blush On|2 \t has 11544 images.\n",
      "Category Powder|3 \t has 81250 images.\n",
      "Category Other Face Cosmetics|4 \t has 42688 images.\n",
      "Category BB & CC Cream|5 \t has 55279 images.\n",
      "Category Contour|6 \t has 2047 images.\n",
      "Category Concealer|7 \t has 11668 images.\n",
      "Category Highlighter|8 \t has 6048 images.\n",
      "Category Primer|9 \t has 8106 images.\n",
      "Category Setting Spray|10 \t has 1077 images.\n",
      "Category Bronzer|11 \t has 4108 images.\n",
      "Category Lipstick|12 \t has 21782 images.\n",
      "Category Lip Tint|13 \t has 2982 images.\n",
      "Category Lip Gloss|14 \t has 2735 images.\n",
      "Category Lip Liner|15 \t has 599 images.\n",
      "Category Other Lip Cosmetics|16 \t has 2228 images.\n"
     ]
    }
   ],
   "source": [
    "for category in range(n_labels):\n",
    "    print('Category {0}|{1} \\t has {2} images.'.format(numerical2label[category],\n",
    "                                                    category,\n",
    "                                                    len(os.listdir(os.path.join(base_dir, str(category))))))"
   ]
  },
  {
   "cell_type": "code",
   "execution_count": 9,
   "metadata": {
    "_uuid": "273e60c286979d48853d6ddde69dd682c7ba731a",
    "collapsed": true
   },
   "outputs": [],
   "source": [
    "train_ratio = 0.7; validation_ratio = 0.1; test_ratio = 0.2\n",
    "\n",
    "for category in range(n_labels):\n",
    "    category_size = len(os.listdir(os.path.join(base_dir, str(category))))\n",
    "    train_size = int(train_ratio * category_size)\n",
    "    validation_size = int(validation_ratio * category_size)\n",
    "    test_size = category_size - (train_size + validation_size)\n",
    "    \n",
    "    # Copy data from category_dir to create train set for category\n",
    "    category_dir = os.path.join(base_dir, str(category))\n",
    "    train_category_dir = os.path.join(train_dir, numerical2label[category])\n",
    "    fnames = os.listdir(category_dir)[0:train_size]\n",
    "    for fname in fnames:\n",
    "        src = os.path.join(category_dir, fname)\n",
    "        dst = os.path.join(train_category_dir, fname)\n",
    "        shutil.copyfile(src, dst)\n",
    "        \n",
    "    # Copy data from category_dir to create validation set for category\n",
    "    validation_category_dir = os.path.join(validation_dir, numerical2label[category])\n",
    "    fnames = os.listdir(category_dir)[train_size:train_size+validation_size]\n",
    "    for fname in fnames:\n",
    "        src = os.path.join(category_dir, fname)\n",
    "        dst = os.path.join(validation_category_dir, fname)\n",
    "        shutil.copyfile(src, dst)\n",
    "\n",
    "    # Copy data from category_dir to create test set for category\n",
    "    test_category_dir = os.path.join(test_dir, numerical2label[category])\n",
    "    fnames = os.listdir(category_dir)[train_size+validation_size:]\n",
    "    for fname in fnames:\n",
    "        src = os.path.join(category_dir, fname)\n",
    "        dst = os.path.join(test_category_dir, fname)\n",
    "        shutil.copyfile(src, dst)"
   ]
  },
  {
   "cell_type": "code",
   "execution_count": 10,
   "metadata": {
    "_uuid": "1525d422a87d9380f370fa4b44f1d2ba185eff10"
   },
   "outputs": [
    {
     "name": "stdout",
     "output_type": "stream",
     "text": [
      "Found 200600 images belonging to 17 classes.\n",
      "Found 28649 images belonging to 17 classes.\n"
     ]
    }
   ],
   "source": [
    "from keras.preprocessing.image import ImageDataGenerator\n",
    "\n",
    "# All images will be rescaled by 1./255\n",
    "train_datagen = ImageDataGenerator(rescale=1./255)\n",
    "validation_datagen = ImageDataGenerator(rescale=1./255)\n",
    "\n",
    "train_generator = train_datagen.flow_from_directory(\n",
    "        # This is the target directory\n",
    "        train_dir,\n",
    "        # All images will be resized to 150x150\n",
    "        target_size=(150, 150),\n",
    "        batch_size=20,\n",
    "        # Since we use binary_crossentropy loss, we need binary labels\n",
    "        class_mode='categorical')\n",
    "\n",
    "validation_generator = validation_datagen.flow_from_directory(\n",
    "        validation_dir,\n",
    "        target_size=(150, 150),\n",
    "        batch_size=20,\n",
    "        class_mode='categorical')"
   ]
  },
  {
   "cell_type": "code",
   "execution_count": 11,
   "metadata": {
    "_uuid": "b705376f13fdf45ea5461965e3a187bf7dea089a"
   },
   "outputs": [
    {
     "name": "stdout",
     "output_type": "stream",
     "text": [
      "WARNING:tensorflow:From /Users/pengyu/anaconda3/lib/python3.6/site-packages/tensorflow/python/framework/op_def_library.py:263: colocate_with (from tensorflow.python.framework.ops) is deprecated and will be removed in a future version.\n",
      "Instructions for updating:\n",
      "Colocations handled automatically by placer.\n"
     ]
    }
   ],
   "source": [
    "from keras import layers\n",
    "from keras import models\n",
    "\n",
    "model = models.Sequential()\n",
    "model.add(layers.Conv2D(32, (3, 3), activation='relu',\n",
    "                        input_shape=(150, 150, 3)))\n",
    "model.add(layers.MaxPooling2D((2, 2)))\n",
    "model.add(layers.Conv2D(64, (3, 3), activation='relu'))\n",
    "model.add(layers.MaxPooling2D((2, 2)))\n",
    "model.add(layers.Conv2D(128, (3, 3), activation='relu'))\n",
    "model.add(layers.MaxPooling2D((2, 2)))\n",
    "model.add(layers.Conv2D(128, (3, 3), activation='relu'))\n",
    "model.add(layers.MaxPooling2D((2, 2)))\n",
    "model.add(layers.Flatten())\n",
    "model.add(layers.Dense(512, activation='relu'))\n",
    "model.add(layers.Dense(17, activation='softmax'))"
   ]
  },
  {
   "cell_type": "code",
   "execution_count": 12,
   "metadata": {
    "_uuid": "83a3434c9bdeb842a2ed54dcebe158d26c89ad21"
   },
   "outputs": [
    {
     "name": "stdout",
     "output_type": "stream",
     "text": [
      "_________________________________________________________________\n",
      "Layer (type)                 Output Shape              Param #   \n",
      "=================================================================\n",
      "conv2d_1 (Conv2D)            (None, 148, 148, 32)      896       \n",
      "_________________________________________________________________\n",
      "max_pooling2d_1 (MaxPooling2 (None, 74, 74, 32)        0         \n",
      "_________________________________________________________________\n",
      "conv2d_2 (Conv2D)            (None, 72, 72, 64)        18496     \n",
      "_________________________________________________________________\n",
      "max_pooling2d_2 (MaxPooling2 (None, 36, 36, 64)        0         \n",
      "_________________________________________________________________\n",
      "conv2d_3 (Conv2D)            (None, 34, 34, 128)       73856     \n",
      "_________________________________________________________________\n",
      "max_pooling2d_3 (MaxPooling2 (None, 17, 17, 128)       0         \n",
      "_________________________________________________________________\n",
      "conv2d_4 (Conv2D)            (None, 15, 15, 128)       147584    \n",
      "_________________________________________________________________\n",
      "max_pooling2d_4 (MaxPooling2 (None, 7, 7, 128)         0         \n",
      "_________________________________________________________________\n",
      "flatten_1 (Flatten)          (None, 6272)              0         \n",
      "_________________________________________________________________\n",
      "dense_1 (Dense)              (None, 512)               3211776   \n",
      "_________________________________________________________________\n",
      "dense_2 (Dense)              (None, 17)                8721      \n",
      "=================================================================\n",
      "Total params: 3,461,329\n",
      "Trainable params: 3,461,329\n",
      "Non-trainable params: 0\n",
      "_________________________________________________________________\n"
     ]
    }
   ],
   "source": [
    "model.summary()"
   ]
  },
  {
   "cell_type": "code",
   "execution_count": 13,
   "metadata": {
    "_uuid": "894facd4699e4ec4d4e4fcc27506824068f95ce5",
    "collapsed": true
   },
   "outputs": [],
   "source": [
    "from keras import optimizers\n",
    "\n",
    "model.compile(loss='categorical_crossentropy',\n",
    "              optimizer=optimizers.adam(),\n",
    "              metrics=['acc'])"
   ]
  },
  {
   "cell_type": "code",
   "execution_count": 14,
   "metadata": {
    "_uuid": "31ca30023bd1f6e22371704bda44782d7ec90467"
   },
   "outputs": [
    {
     "name": "stdout",
     "output_type": "stream",
     "text": [
      "WARNING:tensorflow:From /Users/pengyu/anaconda3/lib/python3.6/site-packages/tensorflow/python/ops/math_ops.py:3066: to_int32 (from tensorflow.python.ops.math_ops) is deprecated and will be removed in a future version.\n",
      "Instructions for updating:\n",
      "Use tf.cast instead.\n",
      "Epoch 1/30\n",
      "100/100 [==============================] - 102s 1s/step - loss: 2.2143 - acc: 0.2695 - val_loss: 2.1911 - val_acc: 0.2750\n",
      "Epoch 2/30\n",
      "100/100 [==============================] - 94s 938ms/step - loss: 2.1801 - acc: 0.2760 - val_loss: 2.2079 - val_acc: 0.2750\n",
      "Epoch 3/30\n",
      "100/100 [==============================] - 95s 946ms/step - loss: 2.1360 - acc: 0.2760 - val_loss: 2.0805 - val_acc: 0.2840\n",
      "Epoch 4/30\n",
      "100/100 [==============================] - 94s 937ms/step - loss: 2.0998 - acc: 0.2790 - val_loss: 2.0154 - val_acc: 0.3220\n",
      "Epoch 5/30\n",
      "100/100 [==============================] - 93s 927ms/step - loss: 2.0117 - acc: 0.3095 - val_loss: 2.1052 - val_acc: 0.2810\n",
      "Epoch 6/30\n",
      "100/100 [==============================] - 94s 938ms/step - loss: 2.0652 - acc: 0.2895 - val_loss: 2.0748 - val_acc: 0.3110\n",
      "Epoch 7/30\n",
      "100/100 [==============================] - 93s 935ms/step - loss: 2.0337 - acc: 0.3125 - val_loss: 2.0413 - val_acc: 0.3150\n",
      "Epoch 8/30\n",
      "100/100 [==============================] - 94s 938ms/step - loss: 2.0657 - acc: 0.3200 - val_loss: 1.9915 - val_acc: 0.3230\n",
      "Epoch 9/30\n",
      "100/100 [==============================] - 93s 935ms/step - loss: 2.0197 - acc: 0.3135 - val_loss: 2.0183 - val_acc: 0.3470\n",
      "Epoch 10/30\n",
      "100/100 [==============================] - 94s 937ms/step - loss: 1.9891 - acc: 0.3245 - val_loss: 2.0245 - val_acc: 0.3190\n",
      "Epoch 11/30\n",
      "100/100 [==============================] - 94s 943ms/step - loss: 1.9302 - acc: 0.3365 - val_loss: 1.9369 - val_acc: 0.3330\n",
      "Epoch 12/30\n",
      "100/100 [==============================] - 93s 932ms/step - loss: 2.0279 - acc: 0.2965 - val_loss: 1.9395 - val_acc: 0.3440\n",
      "Epoch 13/30\n",
      "100/100 [==============================] - 94s 938ms/step - loss: 2.0081 - acc: 0.3485 - val_loss: 1.9825 - val_acc: 0.3250\n",
      "Epoch 14/30\n",
      "100/100 [==============================] - 95s 946ms/step - loss: 1.9488 - acc: 0.3425 - val_loss: 1.9788 - val_acc: 0.3320\n",
      "Epoch 15/30\n",
      "100/100 [==============================] - 90s 904ms/step - loss: 1.9480 - acc: 0.3245 - val_loss: 1.9375 - val_acc: 0.3470\n",
      "Epoch 16/30\n",
      "100/100 [==============================] - 91s 913ms/step - loss: 1.9256 - acc: 0.3535 - val_loss: 1.9213 - val_acc: 0.3430\n",
      "Epoch 17/30\n",
      "100/100 [==============================] - 91s 913ms/step - loss: 1.9319 - acc: 0.3385 - val_loss: 1.9232 - val_acc: 0.3470\n",
      "Epoch 18/30\n",
      "100/100 [==============================] - 91s 909ms/step - loss: 1.9390 - acc: 0.3345 - val_loss: 1.8643 - val_acc: 0.3680\n",
      "Epoch 19/30\n",
      "100/100 [==============================] - 91s 914ms/step - loss: 1.9413 - acc: 0.3300 - val_loss: 1.9458 - val_acc: 0.3520\n",
      "Epoch 20/30\n",
      "100/100 [==============================] - 91s 915ms/step - loss: 1.9032 - acc: 0.3595 - val_loss: 1.9323 - val_acc: 0.3680\n",
      "Epoch 21/30\n",
      "100/100 [==============================] - 93s 930ms/step - loss: 1.9021 - acc: 0.3375 - val_loss: 1.8907 - val_acc: 0.3700\n",
      "Epoch 22/30\n",
      "100/100 [==============================] - 92s 920ms/step - loss: 1.8919 - acc: 0.3595 - val_loss: 1.8717 - val_acc: 0.3710\n",
      "Epoch 23/30\n",
      "100/100 [==============================] - 91s 910ms/step - loss: 1.8292 - acc: 0.3700 - val_loss: 1.8705 - val_acc: 0.3750\n",
      "Epoch 24/30\n",
      "100/100 [==============================] - 92s 919ms/step - loss: 1.8680 - acc: 0.3655 - val_loss: 1.8285 - val_acc: 0.3760\n",
      "Epoch 25/30\n",
      "100/100 [==============================] - 92s 919ms/step - loss: 1.8427 - acc: 0.3760 - val_loss: 1.9301 - val_acc: 0.3510\n",
      "Epoch 26/30\n",
      "100/100 [==============================] - 91s 914ms/step - loss: 1.8838 - acc: 0.3795 - val_loss: 1.9027 - val_acc: 0.3770\n",
      "Epoch 27/30\n",
      "100/100 [==============================] - 92s 917ms/step - loss: 1.8463 - acc: 0.3775 - val_loss: 1.8629 - val_acc: 0.3790\n",
      "Epoch 28/30\n",
      "100/100 [==============================] - 92s 916ms/step - loss: 1.8165 - acc: 0.3875 - val_loss: 1.8451 - val_acc: 0.4010\n",
      "Epoch 29/30\n",
      "100/100 [==============================] - 92s 920ms/step - loss: 1.8076 - acc: 0.3755 - val_loss: 1.8311 - val_acc: 0.3913\n",
      "Epoch 30/30\n",
      "100/100 [==============================] - 92s 922ms/step - loss: 1.8105 - acc: 0.3990 - val_loss: 1.8648 - val_acc: 0.3550\n"
     ]
    }
   ],
   "source": [
    "history = model.fit_generator(\n",
    "      train_generator,\n",
    "      steps_per_epoch=100,\n",
    "      epochs=30,\n",
    "      validation_data=validation_generator,\n",
    "      validation_steps=50)"
   ]
  },
  {
   "cell_type": "code",
   "execution_count": 15,
   "metadata": {
    "_uuid": "6c6673af44785f7a84a5f3fdad62e1e27b2f6ef6",
    "collapsed": true
   },
   "outputs": [],
   "source": [
    "model.save('cnn_baseline_beauty.h5')"
   ]
  },
  {
   "cell_type": "code",
   "execution_count": 16,
   "metadata": {
    "_uuid": "4f0596bb21a282a284223b98f64e5c493a009852"
   },
   "outputs": [
    {
     "data": {
      "image/png": "[encoded data removed]",
      "text/plain": [
       "<matplotlib.figure.Figure at 0x1837c7a898>"
      ]
     },
     "metadata": {},
     "output_type": "display_data"
    },
    {
     "data": {
      "image/png": "[encoded data removed]",
      "text/plain": [
       "<matplotlib.figure.Figure at 0x183b0e16d8>"
      ]
     },
     "metadata": {},
     "output_type": "display_data"
    }
   ],
   "source": [
    "import matplotlib.pyplot as plt\n",
    "\n",
    "acc = history.history['acc']\n",
    "val_acc = history.history['val_acc']\n",
    "loss = history.history['loss']\n",
    "val_loss = history.history['val_loss']\n",
    "\n",
    "epochs = range(len(acc))\n",
    "\n",
    "plt.plot(epochs, acc, 'bo', label='Training acc')\n",
    "plt.plot(epochs, val_acc, 'b', label='Validation acc')\n",
    "plt.title('Training and validation accuracy')\n",
    "plt.legend()\n",
    "\n",
    "plt.figure()\n",
    "\n",
    "plt.plot(epochs, loss, 'bo', label='Training loss')\n",
    "plt.plot(epochs, val_loss, 'b', label='Validation loss')\n",
    "plt.title('Training and validation loss')\n",
    "plt.legend()\n",
    "\n",
    "plt.show()"
   ]
  },
  {
   "cell_type": "code",
   "execution_count": 17,
   "metadata": {
    "_uuid": "25026e6077fb10219765be731c5383a646b3d50d"
   },
   "outputs": [
    {
     "name": "stdout",
     "output_type": "stream",
     "text": [
      "Found 57334 images belonging to 17 classes.\n",
      "test acc: 0.3670000011473894\n"
     ]
    }
   ],
   "source": [
    "test_datagen = ImageDataGenerator(rescale=1./255)\n",
    "test_generator = test_datagen.flow_from_directory(\n",
    "        test_dir,\n",
    "        target_size=(150, 150),\n",
    "        batch_size=20,\n",
    "        class_mode='categorical')\n",
    "\n",
    "test_loss, test_acc = model.evaluate_generator(test_generator, steps=50)\n",
    "print('test acc:', test_acc)"
   ]
  },
  {
   "cell_type": "code",
   "execution_count": null,
   "metadata": {
    "collapsed": true
   },
   "outputs": [],
   "source": []
  },
  {
   "cell_type": "code",
   "execution_count": 18,
   "metadata": {
    "_uuid": "8f261d7cf579a1527201ec5d4737d03cade6a35d",
    "collapsed": true
   },
   "outputs": [],
   "source": [
    "# Source: https://github.com/fchollet/deep-learning-with-python-notebooks/blob/master/5.2-using-convnets-with-small-datasets.ipynb\n",
    "import os, shutil\n",
    "\n",
    "\n",
    "# Directories for our training,\n",
    "# validation and test splits\n",
    "base_dir = os.path.join(os.getcwd(), 'Train', 'Fashion')\n",
    "train_dir = os.path.join(base_dir, 'train')\n",
    "try:\n",
    "    os.mkdir(train_dir)\n",
    "except:\n",
    "    pass\n",
    "validation_dir = os.path.join(base_dir, 'validate')\n",
    "try:\n",
    "    os.mkdir(validation_dir)\n",
    "except:\n",
    "    pass\n",
    "test_dir = os.path.join(base_dir, 'test')\n",
    "try:\n",
    "    os.mkdir(test_dir)\n",
    "except:\n",
    "    pass\n",
    "\n",
    "# Directory with our training categories\n",
    "n_labels = 14\n",
    "for category_id in range(17, 17+n_labels):\n",
    "    category_name = numerical2label[category_id]\n",
    "    train_category_dir = os.path.join(train_dir, category_name)\n",
    "    if (os.path.isdir(train_category_dir) is False):\n",
    "        os.mkdir(train_category_dir)\n",
    "\n",
    "# Directory with our validation categories\n",
    "for category_id in range(17, 17+n_labels):\n",
    "    category_name = numerical2label[category_id]\n",
    "    validation_category_dir = os.path.join(validation_dir, category_name)\n",
    "    if (os.path.isdir(validation_category_dir) is False):\n",
    "        os.mkdir(validation_category_dir)\n",
    "\n",
    "# Directory with our test categories\n",
    "for category_id in range(17, 17+n_labels):\n",
    "    category_name = numerical2label[category_id]\n",
    "    test_category_dir = os.path.join(test_dir, category_name)\n",
    "    if (os.path.isdir(test_category_dir) is False):\n",
    "        os.mkdir(test_category_dir)"
   ]
  },
  {
   "cell_type": "code",
   "execution_count": 19,
   "metadata": {
    "_uuid": "9e2884a50c6d3950da00acc4568491008b781b39"
   },
   "outputs": [
    {
     "name": "stdout",
     "output_type": "stream",
     "text": [
      "Category Others|17 \t has 2765 images.\n",
      "Category Casual Dress|18 \t has 56598 images.\n",
      "Category Party Dress|19 \t has 13493 images.\n",
      "Category Maxi Dress|20 \t has 19978 images.\n",
      "Category A Line Dress|21 \t has 10483 images.\n",
      "Category Bodycon Dress|22 \t has 15225 images.\n",
      "Category Wedding Dress|23 \t has 1671 images.\n",
      "Category Big Size Dress|24 \t has 4251 images.\n",
      "Category Tshirt|25 \t has 33922 images.\n",
      "Category Blouse |26 \t has 33845 images.\n",
      "Category Shirt|27 \t has 16199 images.\n",
      "Category Tanktop|28 \t has 6493 images.\n",
      "Category Crop Top |29 \t has 3338 images.\n",
      "Category Big Size Top|30 \t has 1441 images.\n"
     ]
    }
   ],
   "source": [
    "for category in range(17,17+n_labels):\n",
    "    print('Category {0}|{1} \\t has {2} images.'.format(numerical2label[category],\n",
    "                                                    category,\n",
    "                                                    len(os.listdir(os.path.join(base_dir, str(category))))))"
   ]
  },
  {
   "cell_type": "code",
   "execution_count": 20,
   "metadata": {
    "_uuid": "273e60c286979d48853d6ddde69dd682c7ba731a",
    "collapsed": true
   },
   "outputs": [],
   "source": [
    "train_ratio = 0.7; validation_ratio = 0.1; test_ratio = 0.2\n",
    "\n",
    "for category in range(17, 17+n_labels):\n",
    "    category_size = len(os.listdir(os.path.join(base_dir, str(category))))\n",
    "    train_size = int(train_ratio * category_size)\n",
    "    validation_size = int(validation_ratio * category_size)\n",
    "    test_size = category_size - (train_size + validation_size)\n",
    "    \n",
    "    # Copy data from category_dir to create train set for category\n",
    "    category_dir = os.path.join(base_dir, str(category))\n",
    "    train_category_dir = os.path.join(train_dir, numerical2label[category])\n",
    "    fnames = os.listdir(category_dir)[0:train_size]\n",
    "    for fname in fnames:\n",
    "        src = os.path.join(category_dir, fname)\n",
    "        dst = os.path.join(train_category_dir, fname)\n",
    "        shutil.copyfile(src, dst)\n",
    "        \n",
    "    # Copy data from category_dir to create validation set for category\n",
    "    validation_category_dir = os.path.join(validation_dir, numerical2label[category])\n",
    "    fnames = os.listdir(category_dir)[train_size:train_size+validation_size]\n",
    "    for fname in fnames:\n",
    "        src = os.path.join(category_dir, fname)\n",
    "        dst = os.path.join(validation_category_dir, fname)\n",
    "        shutil.copyfile(src, dst)\n",
    "\n",
    "    # Copy data from category_dir to create test set for category\n",
    "    test_category_dir = os.path.join(test_dir, numerical2label[category])\n",
    "    fnames = os.listdir(category_dir)[train_size+validation_size:]\n",
    "    for fname in fnames:\n",
    "        src = os.path.join(category_dir, fname)\n",
    "        dst = os.path.join(test_category_dir, fname)\n",
    "        shutil.copyfile(src, dst)"
   ]
  },
  {
   "cell_type": "code",
   "execution_count": 21,
   "metadata": {
    "_uuid": "1525d422a87d9380f370fa4b44f1d2ba185eff10"
   },
   "outputs": [
    {
     "name": "stdout",
     "output_type": "stream",
     "text": [
      "Found 153785 images belonging to 14 classes.\n",
      "Found 21964 images belonging to 14 classes.\n"
     ]
    }
   ],
   "source": [
    "from keras.preprocessing.image import ImageDataGenerator\n",
    "\n",
    "# All images will be rescaled by 1./255\n",
    "train_datagen = ImageDataGenerator(rescale=1./255)\n",
    "validation_datagen = ImageDataGenerator(rescale=1./255)\n",
    "\n",
    "train_generator = train_datagen.flow_from_directory(\n",
    "        # This is the target directory\n",
    "        train_dir,\n",
    "        # All images will be resized to 150x150\n",
    "        target_size=(150, 150),\n",
    "        batch_size=20,\n",
    "        # Since we use binary_crossentropy loss, we need binary labels\n",
    "        class_mode='categorical')\n",
    "\n",
    "validation_generator = validation_datagen.flow_from_directory(\n",
    "        validation_dir,\n",
    "        target_size=(150, 150),\n",
    "        batch_size=20,\n",
    "        class_mode='categorical')"
   ]
  },
  {
   "cell_type": "code",
   "execution_count": 26,
   "metadata": {
    "_uuid": "b705376f13fdf45ea5461965e3a187bf7dea089a",
    "collapsed": true
   },
   "outputs": [],
   "source": [
    "from keras import layers\n",
    "from keras import models\n",
    "\n",
    "model = models.Sequential()\n",
    "model.add(layers.Conv2D(32, (3, 3), activation='relu',\n",
    "                        input_shape=(150, 150, 3)))\n",
    "model.add(layers.MaxPooling2D((2, 2)))\n",
    "model.add(layers.Conv2D(64, (3, 3), activation='relu'))\n",
    "model.add(layers.MaxPooling2D((2, 2)))\n",
    "model.add(layers.Conv2D(128, (3, 3), activation='relu'))\n",
    "model.add(layers.MaxPooling2D((2, 2)))\n",
    "model.add(layers.Conv2D(128, (3, 3), activation='relu'))\n",
    "model.add(layers.MaxPooling2D((2, 2)))\n",
    "model.add(layers.Flatten())\n",
    "model.add(layers.Dense(512, activation='relu'))\n",
    "model.add(layers.Dense(14, activation='softmax'))"
   ]
  },
  {
   "cell_type": "code",
   "execution_count": 27,
   "metadata": {
    "_uuid": "83a3434c9bdeb842a2ed54dcebe158d26c89ad21"
   },
   "outputs": [
    {
     "name": "stdout",
     "output_type": "stream",
     "text": [
      "_________________________________________________________________\n",
      "Layer (type)                 Output Shape              Param #   \n",
      "=================================================================\n",
      "conv2d_9 (Conv2D)            (None, 148, 148, 32)      896       \n",
      "_________________________________________________________________\n",
      "max_pooling2d_9 (MaxPooling2 (None, 74, 74, 32)        0         \n",
      "_________________________________________________________________\n",
      "conv2d_10 (Conv2D)           (None, 72, 72, 64)        18496     \n",
      "_________________________________________________________________\n",
      "max_pooling2d_10 (MaxPooling (None, 36, 36, 64)        0         \n",
      "_________________________________________________________________\n",
      "conv2d_11 (Conv2D)           (None, 34, 34, 128)       73856     \n",
      "_________________________________________________________________\n",
      "max_pooling2d_11 (MaxPooling (None, 17, 17, 128)       0         \n",
      "_________________________________________________________________\n",
      "conv2d_12 (Conv2D)           (None, 15, 15, 128)       147584    \n",
      "_________________________________________________________________\n",
      "max_pooling2d_12 (MaxPooling (None, 7, 7, 128)         0         \n",
      "_________________________________________________________________\n",
      "flatten_3 (Flatten)          (None, 6272)              0         \n",
      "_________________________________________________________________\n",
      "dense_5 (Dense)              (None, 512)               3211776   \n",
      "_________________________________________________________________\n",
      "dense_6 (Dense)              (None, 14)                7182      \n",
      "=================================================================\n",
      "Total params: 3,459,790\n",
      "Trainable params: 3,459,790\n",
      "Non-trainable params: 0\n",
      "_________________________________________________________________\n"
     ]
    }
   ],
   "source": [
    "model.summary()"
   ]
  },
  {
   "cell_type": "code",
   "execution_count": 28,
   "metadata": {
    "_uuid": "894facd4699e4ec4d4e4fcc27506824068f95ce5",
    "collapsed": true
   },
   "outputs": [],
   "source": [
    "from keras import optimizers\n",
    "\n",
    "model.compile(loss='categorical_crossentropy',\n",
    "              optimizer=optimizers.adam(),\n",
    "              metrics=['acc'])"
   ]
  },
  {
   "cell_type": "code",
   "execution_count": 29,
   "metadata": {
    "_uuid": "31ca30023bd1f6e22371704bda44782d7ec90467"
   },
   "outputs": [
    {
     "name": "stdout",
     "output_type": "stream",
     "text": [
      "Epoch 1/30\n",
      "100/100 [==============================] - 102s 1s/step - loss: 2.2483 - acc: 0.2375 - val_loss: 2.2518 - val_acc: 0.2560\n",
      "Epoch 2/30\n",
      "100/100 [==============================] - 94s 938ms/step - loss: 2.2108 - acc: 0.2400 - val_loss: 2.2095 - val_acc: 0.2430\n",
      "Epoch 3/30\n",
      "100/100 [==============================] - 93s 931ms/step - loss: 2.2333 - acc: 0.2440 - val_loss: 2.1856 - val_acc: 0.2970\n",
      "Epoch 4/30\n",
      "100/100 [==============================] - 94s 936ms/step - loss: 2.2573 - acc: 0.2490 - val_loss: 2.1916 - val_acc: 0.2850\n",
      "Epoch 5/30\n",
      "100/100 [==============================] - 93s 934ms/step - loss: 2.1721 - acc: 0.2695 - val_loss: 2.2462 - val_acc: 0.2390\n",
      "Epoch 6/30\n",
      "100/100 [==============================] - 94s 937ms/step - loss: 2.2144 - acc: 0.2545 - val_loss: 2.1592 - val_acc: 0.2660\n",
      "Epoch 7/30\n",
      "100/100 [==============================] - 93s 933ms/step - loss: 2.2277 - acc: 0.2615 - val_loss: 2.2311 - val_acc: 0.2550\n",
      "Epoch 8/30\n",
      "100/100 [==============================] - 94s 938ms/step - loss: 2.1822 - acc: 0.2760 - val_loss: 2.1743 - val_acc: 0.2660\n",
      "Epoch 9/30\n",
      "100/100 [==============================] - 93s 929ms/step - loss: 2.1773 - acc: 0.2640 - val_loss: 2.2110 - val_acc: 0.2800\n",
      "Epoch 10/30\n",
      "100/100 [==============================] - 93s 933ms/step - loss: 2.2008 - acc: 0.2645 - val_loss: 2.1818 - val_acc: 0.2780\n",
      "Epoch 11/30\n",
      "100/100 [==============================] - 94s 936ms/step - loss: 2.1783 - acc: 0.2745 - val_loss: 2.1569 - val_acc: 0.2860\n",
      "Epoch 12/30\n",
      "100/100 [==============================] - 94s 940ms/step - loss: 2.1564 - acc: 0.2855 - val_loss: 2.1666 - val_acc: 0.2770\n",
      "Epoch 13/30\n",
      "100/100 [==============================] - 93s 926ms/step - loss: 2.1516 - acc: 0.2830 - val_loss: 2.1252 - val_acc: 0.3010\n",
      "Epoch 14/30\n",
      "100/100 [==============================] - 94s 940ms/step - loss: 2.1086 - acc: 0.2900 - val_loss: 2.0973 - val_acc: 0.3080\n",
      "Epoch 15/30\n",
      "100/100 [==============================] - 93s 934ms/step - loss: 2.1107 - acc: 0.2995 - val_loss: 2.1073 - val_acc: 0.2920\n",
      "Epoch 16/30\n",
      "100/100 [==============================] - 93s 929ms/step - loss: 2.0658 - acc: 0.3255 - val_loss: 2.0467 - val_acc: 0.3180\n",
      "Epoch 17/30\n",
      "100/100 [==============================] - 94s 936ms/step - loss: 2.0954 - acc: 0.3075 - val_loss: 2.0073 - val_acc: 0.3330\n",
      "Epoch 18/30\n",
      "100/100 [==============================] - 94s 944ms/step - loss: 2.1041 - acc: 0.3090 - val_loss: 2.0563 - val_acc: 0.3120\n",
      "Epoch 19/30\n",
      "100/100 [==============================] - 94s 937ms/step - loss: 1.9958 - acc: 0.3465 - val_loss: 2.0437 - val_acc: 0.3470\n",
      "Epoch 20/30\n",
      "100/100 [==============================] - 94s 942ms/step - loss: 2.0437 - acc: 0.3325 - val_loss: 2.0456 - val_acc: 0.3380\n",
      "Epoch 21/30\n",
      "100/100 [==============================] - 93s 929ms/step - loss: 2.0282 - acc: 0.3250 - val_loss: 2.0052 - val_acc: 0.3280\n",
      "Epoch 22/30\n",
      "100/100 [==============================] - 95s 946ms/step - loss: 2.0357 - acc: 0.3320 - val_loss: 2.0635 - val_acc: 0.3161\n",
      "Epoch 23/30\n",
      "100/100 [==============================] - 94s 942ms/step - loss: 2.0300 - acc: 0.3185 - val_loss: 2.0716 - val_acc: 0.2940\n",
      "Epoch 24/30\n",
      "100/100 [==============================] - 95s 950ms/step - loss: 2.0129 - acc: 0.3305 - val_loss: 2.0532 - val_acc: 0.3280\n",
      "Epoch 25/30\n",
      "100/100 [==============================] - 94s 945ms/step - loss: 1.9940 - acc: 0.3355 - val_loss: 2.0119 - val_acc: 0.3400\n",
      "Epoch 26/30\n",
      "100/100 [==============================] - 95s 951ms/step - loss: 2.0230 - acc: 0.3205 - val_loss: 1.9857 - val_acc: 0.3420\n",
      "Epoch 27/30\n",
      "100/100 [==============================] - 95s 946ms/step - loss: 1.9865 - acc: 0.3510 - val_loss: 1.9651 - val_acc: 0.3510\n",
      "Epoch 28/30\n",
      "100/100 [==============================] - 95s 946ms/step - loss: 1.9804 - acc: 0.3530 - val_loss: 1.9404 - val_acc: 0.3610\n",
      "Epoch 29/30\n",
      "100/100 [==============================] - 95s 947ms/step - loss: 1.9534 - acc: 0.3475 - val_loss: 1.9916 - val_acc: 0.3300\n",
      "Epoch 30/30\n",
      "100/100 [==============================] - 94s 939ms/step - loss: 2.0002 - acc: 0.3330 - val_loss: 1.9961 - val_acc: 0.3380\n"
     ]
    }
   ],
   "source": [
    "history = model.fit_generator(\n",
    "      train_generator,\n",
    "      steps_per_epoch=100,\n",
    "      epochs=30,\n",
    "      validation_data=validation_generator,\n",
    "      validation_steps=50)"
   ]
  },
  {
   "cell_type": "code",
   "execution_count": 30,
   "metadata": {
    "_uuid": "6c6673af44785f7a84a5f3fdad62e1e27b2f6ef6",
    "collapsed": true
   },
   "outputs": [],
   "source": [
    "model.save('cnn_baseline_fashion.h5')"
   ]
  },
  {
   "cell_type": "code",
   "execution_count": 31,
   "metadata": {
    "_uuid": "4f0596bb21a282a284223b98f64e5c493a009852"
   },
   "outputs": [
    {
     "data": {
      "image/png": "[encoded data removed]",
      "text/plain": [
       "<matplotlib.figure.Figure at 0x1830cb2a90>"
      ]
     },
     "metadata": {},
     "output_type": "display_data"
    },
    {
     "data": {
      "image/png": "[encoded data removed]",
      "text/plain": [
       "<matplotlib.figure.Figure at 0x182bad4630>"
      ]
     },
     "metadata": {},
     "output_type": "display_data"
    }
   ],
   "source": [
    "import matplotlib.pyplot as plt\n",
    "\n",
    "acc = history.history['acc']\n",
    "val_acc = history.history['val_acc']\n",
    "loss = history.history['loss']\n",
    "val_loss = history.history['val_loss']\n",
    "\n",
    "epochs = range(len(acc))\n",
    "\n",
    "plt.plot(epochs, acc, 'bo', label='Training acc')\n",
    "plt.plot(epochs, val_acc, 'b', label='Validation acc')\n",
    "plt.title('Training and validation accuracy')\n",
    "plt.legend()\n",
    "\n",
    "plt.figure()\n",
    "\n",
    "plt.plot(epochs, loss, 'bo', label='Training loss')\n",
    "plt.plot(epochs, val_loss, 'b', label='Validation loss')\n",
    "plt.title('Training and validation loss')\n",
    "plt.legend()\n",
    "\n",
    "plt.show()"
   ]
  },
  {
   "cell_type": "code",
   "execution_count": 32,
   "metadata": {
    "_uuid": "25026e6077fb10219765be731c5383a646b3d50d"
   },
   "outputs": [
    {
     "name": "stdout",
     "output_type": "stream",
     "text": [
      "Found 43953 images belonging to 14 classes.\n",
      "test acc: 0.3340000006556511\n"
     ]
    }
   ],
   "source": [
    "test_datagen = ImageDataGenerator(rescale=1./255)\n",
    "test_generator = test_datagen.flow_from_directory(\n",
    "        test_dir,\n",
    "        target_size=(150, 150),\n",
    "        batch_size=20,\n",
    "        class_mode='categorical')\n",
    "\n",
    "test_loss, test_acc = model.evaluate_generator(test_generator, steps=50)\n",
    "print('test acc:', test_acc)"
   ]
  },
  {
   "cell_type": "code",
   "execution_count": 34,
   "metadata": {},
   "outputs": [
    {
     "name": "stdout",
     "output_type": "stream",
     "text": [
      "Category Iphone|31 \t has 27836 images.\n",
      "Category Samsung|32 \t has 29754 images.\n",
      "Category Sony|33 \t has 4821 images.\n",
      "Category Xiaomi|34 \t has 14718 images.\n",
      "Category Others Mobile & Tablet|35 \t has 30590 images.\n",
      "Category Blackberry|36 \t has 1028 images.\n",
      "Category Lenovo|37 \t has 2272 images.\n",
      "Category Nokia|38 \t has 4703 images.\n",
      "Category Brandcode|39 \t has 697 images.\n",
      "Category Infinix|40 \t has 327 images.\n",
      "Category Oppo|41 \t has 19312 images.\n",
      "Category Vivo|42 \t has 10502 images.\n",
      "Category Asus|43 \t has 6147 images.\n",
      "Category Evercoss|44 \t has 920 images.\n",
      "Category Advan|45 \t has 2195 images.\n",
      "Category Mito|46 \t has 684 images.\n",
      "Category Huawei|47 \t has 945 images.\n",
      "Category Sharp|48 \t has 416 images.\n",
      "Category Motorola|49 \t has 573 images.\n",
      "Category Strawberry|50 \t has 282 images.\n",
      "Category Realme|51 \t has 404 images.\n",
      "Category Icherry|52 \t has 117 images.\n",
      "Category Smartfren|53 \t has 418 images.\n",
      "Category Honor|54 \t has 300 images.\n",
      "Category Alcatel|55 \t has 151 images.\n",
      "Category Maxtron|56 \t has 170 images.\n",
      "Category SPC|57 \t has 48 images.\n",
      "Found 112217 images belonging to 27 classes.\n",
      "Found 16022 images belonging to 27 classes.\n",
      "_________________________________________________________________\n",
      "Layer (type)                 Output Shape              Param #   \n",
      "=================================================================\n",
      "conv2d_13 (Conv2D)           (None, 148, 148, 32)      896       \n",
      "_________________________________________________________________\n",
      "max_pooling2d_13 (MaxPooling (None, 74, 74, 32)        0         \n",
      "_________________________________________________________________\n",
      "conv2d_14 (Conv2D)           (None, 72, 72, 64)        18496     \n",
      "_________________________________________________________________\n",
      "max_pooling2d_14 (MaxPooling (None, 36, 36, 64)        0         \n",
      "_________________________________________________________________\n",
      "conv2d_15 (Conv2D)           (None, 34, 34, 128)       73856     \n",
      "_________________________________________________________________\n",
      "max_pooling2d_15 (MaxPooling (None, 17, 17, 128)       0         \n",
      "_________________________________________________________________\n",
      "conv2d_16 (Conv2D)           (None, 15, 15, 128)       147584    \n",
      "_________________________________________________________________\n",
      "max_pooling2d_16 (MaxPooling (None, 7, 7, 128)         0         \n",
      "_________________________________________________________________\n",
      "flatten_4 (Flatten)          (None, 6272)              0         \n",
      "_________________________________________________________________\n",
      "dense_7 (Dense)              (None, 512)               3211776   \n",
      "_________________________________________________________________\n",
      "dense_8 (Dense)              (None, 27)                13851     \n",
      "=================================================================\n",
      "Total params: 3,466,459\n",
      "Trainable params: 3,466,459\n",
      "Non-trainable params: 0\n",
      "_________________________________________________________________\n",
      "Epoch 1/30\n",
      "100/100 [==============================] - 95s 954ms/step - loss: 2.4506 - acc: 0.1820 - val_loss: 2.2743 - val_acc: 0.1910\n",
      "Epoch 2/30\n",
      "100/100 [==============================] - 85s 848ms/step - loss: 2.3110 - acc: 0.2100 - val_loss: 2.3531 - val_acc: 0.2230\n",
      "Epoch 3/30\n",
      "100/100 [==============================] - 91s 908ms/step - loss: 2.3075 - acc: 0.2180 - val_loss: 2.2772 - val_acc: 0.2230\n",
      "Epoch 4/30\n",
      "100/100 [==============================] - 82s 823ms/step - loss: 2.3146 - acc: 0.2145 - val_loss: 2.2744 - val_acc: 0.1920\n",
      "Epoch 5/30\n",
      "100/100 [==============================] - 83s 829ms/step - loss: 2.2669 - acc: 0.2215 - val_loss: 2.2364 - val_acc: 0.2130\n",
      "Epoch 6/30\n",
      "100/100 [==============================] - 81s 808ms/step - loss: 2.2956 - acc: 0.2210 - val_loss: 2.3199 - val_acc: 0.2440\n",
      "Epoch 7/30\n",
      "100/100 [==============================] - 84s 844ms/step - loss: 2.2802 - acc: 0.2150 - val_loss: 2.3017 - val_acc: 0.1960\n",
      "Epoch 8/30\n",
      "100/100 [==============================] - 91s 913ms/step - loss: 2.3043 - acc: 0.2205 - val_loss: 2.2685 - val_acc: 0.2450\n",
      "Epoch 9/30\n",
      "100/100 [==============================] - 92s 920ms/step - loss: 2.2680 - acc: 0.2100 - val_loss: 2.2821 - val_acc: 0.2110\n",
      "Epoch 10/30\n",
      "100/100 [==============================] - 90s 903ms/step - loss: 2.2950 - acc: 0.2030 - val_loss: 2.2748 - val_acc: 0.2220\n",
      "Epoch 11/30\n",
      "100/100 [==============================] - 87s 873ms/step - loss: 2.2706 - acc: 0.2340 - val_loss: 2.2255 - val_acc: 0.2630\n",
      "Epoch 12/30\n",
      "100/100 [==============================] - 90s 901ms/step - loss: 2.2336 - acc: 0.2250 - val_loss: 2.2833 - val_acc: 0.2190\n",
      "Epoch 13/30\n",
      "100/100 [==============================] - 94s 941ms/step - loss: 2.2842 - acc: 0.2410 - val_loss: 2.2434 - val_acc: 0.2290\n",
      "Epoch 14/30\n",
      "100/100 [==============================] - 94s 938ms/step - loss: 2.2484 - acc: 0.2245 - val_loss: 2.2536 - val_acc: 0.2520\n",
      "Epoch 15/30\n",
      "100/100 [==============================] - 91s 910ms/step - loss: 2.2469 - acc: 0.2305 - val_loss: 2.2586 - val_acc: 0.2540\n",
      "Epoch 16/30\n",
      "100/100 [==============================] - 85s 850ms/step - loss: 2.2798 - acc: 0.2345 - val_loss: 2.2029 - val_acc: 0.2590\n",
      "Epoch 17/30\n",
      "100/100 [==============================] - 96s 958ms/step - loss: 2.2498 - acc: 0.2250 - val_loss: 2.3093 - val_acc: 0.2189\n",
      "Epoch 18/30\n",
      "100/100 [==============================] - 82s 823ms/step - loss: 2.2400 - acc: 0.2390 - val_loss: 2.2450 - val_acc: 0.2360\n",
      "Epoch 19/30\n",
      "100/100 [==============================] - 90s 895ms/step - loss: 2.2542 - acc: 0.2445 - val_loss: 2.2178 - val_acc: 0.2550\n",
      "Epoch 20/30\n",
      "100/100 [==============================] - 88s 880ms/step - loss: 2.2074 - acc: 0.2500 - val_loss: 2.2269 - val_acc: 0.2620\n",
      "Epoch 21/30\n",
      "100/100 [==============================] - 92s 918ms/step - loss: 2.1826 - acc: 0.2530 - val_loss: 2.1527 - val_acc: 0.2790\n",
      "Epoch 22/30\n",
      "100/100 [==============================] - 94s 941ms/step - loss: 2.2118 - acc: 0.2695 - val_loss: 2.1805 - val_acc: 0.2750\n",
      "Epoch 23/30\n",
      "100/100 [==============================] - 93s 935ms/step - loss: 2.1478 - acc: 0.2660 - val_loss: 2.1890 - val_acc: 0.2560\n",
      "Epoch 24/30\n",
      "100/100 [==============================] - 87s 868ms/step - loss: 2.1628 - acc: 0.2625 - val_loss: 2.1650 - val_acc: 0.2810\n",
      "Epoch 25/30\n",
      "100/100 [==============================] - 92s 917ms/step - loss: 2.1926 - acc: 0.2695 - val_loss: 2.1888 - val_acc: 0.2480\n",
      "Epoch 26/30\n",
      "100/100 [==============================] - 85s 851ms/step - loss: 2.1837 - acc: 0.2695 - val_loss: 2.1713 - val_acc: 0.2880\n",
      "Epoch 27/30\n",
      "100/100 [==============================] - 91s 911ms/step - loss: 2.1479 - acc: 0.2820 - val_loss: 2.1111 - val_acc: 0.2810\n",
      "Epoch 28/30\n",
      "100/100 [==============================] - 87s 874ms/step - loss: 2.1624 - acc: 0.2830 - val_loss: 2.1511 - val_acc: 0.2830\n",
      "Epoch 29/30\n",
      "100/100 [==============================] - 85s 851ms/step - loss: 2.1419 - acc: 0.2925 - val_loss: 2.1170 - val_acc: 0.3010\n",
      "Epoch 30/30\n",
      "100/100 [==============================] - 85s 848ms/step - loss: 2.1661 - acc: 0.2915 - val_loss: 2.1573 - val_acc: 0.2860\n"
     ]
    },
    {
     "data": {
      "image/png": "[encoded data removed]",
      "text/plain": [
       "<matplotlib.figure.Figure at 0x183a9497f0>"
      ]
     },
     "metadata": {},
     "output_type": "display_data"
    },
    {
     "data": {
      "image/png": "[encoded data removed]",
      "text/plain": [
       "<matplotlib.figure.Figure at 0x18387c9470>"
      ]
     },
     "metadata": {},
     "output_type": "display_data"
    },
    {
     "name": "stdout",
     "output_type": "stream",
     "text": [
      "Found 32091 images belonging to 27 classes.\n",
      "test acc: 0.29200000166893003\n"
     ]
    }
   ],
   "source": [
    "# Source: https://github.com/fchollet/deep-learning-with-python-notebooks/blob/master/5.2-using-convnets-with-small-datasets.ipynb\n",
    "import os, shutil\n",
    "\n",
    "\n",
    "# Directories for our training,\n",
    "# validation and test splits\n",
    "base_dir = os.path.join(os.getcwd(), 'Train', 'Mobile')\n",
    "train_dir = os.path.join(base_dir, 'train')\n",
    "try:\n",
    "    os.mkdir(train_dir)\n",
    "except:\n",
    "    pass\n",
    "validation_dir = os.path.join(base_dir, 'validate')\n",
    "try:\n",
    "    os.mkdir(validation_dir)\n",
    "except:\n",
    "    pass\n",
    "test_dir = os.path.join(base_dir, 'test')\n",
    "try:\n",
    "    os.mkdir(test_dir)\n",
    "except:\n",
    "    pass\n",
    "\n",
    "# Directory with our training categories\n",
    "n_labels = 27\n",
    "categ_start = 31\n",
    "for category_id in range(categ_start, categ_start+n_labels):\n",
    "    category_name = numerical2label[category_id]\n",
    "    train_category_dir = os.path.join(train_dir, category_name)\n",
    "    if (os.path.isdir(train_category_dir) is False):\n",
    "        os.mkdir(train_category_dir)\n",
    "\n",
    "# Directory with our validation categories\n",
    "for category_id in range(categ_start, categ_start+n_labels):\n",
    "    category_name = numerical2label[category_id]\n",
    "    validation_category_dir = os.path.join(validation_dir, category_name)\n",
    "    if (os.path.isdir(validation_category_dir) is False):\n",
    "        os.mkdir(validation_category_dir)\n",
    "\n",
    "# Directory with our test categories\n",
    "for category_id in range(categ_start, categ_start+n_labels):\n",
    "    category_name = numerical2label[category_id]\n",
    "    test_category_dir = os.path.join(test_dir, category_name)\n",
    "    if (os.path.isdir(test_category_dir) is False):\n",
    "        os.mkdir(test_category_dir)\n",
    "\n",
    "for category in range(categ_start,categ_start+n_labels):\n",
    "    print('Category {0}|{1} \\t has {2} images.'.format(numerical2label[category],\n",
    "                                                    category,\n",
    "                                                    len(os.listdir(os.path.join(base_dir, str(category))))))\n",
    "\n",
    "train_ratio = 0.7; validation_ratio = 0.1; test_ratio = 0.2\n",
    "\n",
    "for category in range(categ_start, categ_start+n_labels):\n",
    "    category_size = len(os.listdir(os.path.join(base_dir, str(category))))\n",
    "    train_size = int(train_ratio * category_size)\n",
    "    validation_size = int(validation_ratio * category_size)\n",
    "    test_size = category_size - (train_size + validation_size)\n",
    "    \n",
    "    # Copy data from category_dir to create train set for category\n",
    "    category_dir = os.path.join(base_dir, str(category))\n",
    "    train_category_dir = os.path.join(train_dir, numerical2label[category])\n",
    "    fnames = os.listdir(category_dir)[0:train_size]\n",
    "    for fname in fnames:\n",
    "        src = os.path.join(category_dir, fname)\n",
    "        dst = os.path.join(train_category_dir, fname)\n",
    "        shutil.copyfile(src, dst)\n",
    "        \n",
    "    # Copy data from category_dir to create validation set for category\n",
    "    validation_category_dir = os.path.join(validation_dir, numerical2label[category])\n",
    "    fnames = os.listdir(category_dir)[train_size:train_size+validation_size]\n",
    "    for fname in fnames:\n",
    "        src = os.path.join(category_dir, fname)\n",
    "        dst = os.path.join(validation_category_dir, fname)\n",
    "        shutil.copyfile(src, dst)\n",
    "\n",
    "    # Copy data from category_dir to create test set for category\n",
    "    test_category_dir = os.path.join(test_dir, numerical2label[category])\n",
    "    fnames = os.listdir(category_dir)[train_size+validation_size:]\n",
    "    for fname in fnames:\n",
    "        src = os.path.join(category_dir, fname)\n",
    "        dst = os.path.join(test_category_dir, fname)\n",
    "        shutil.copyfile(src, dst)\n",
    "\n",
    "from keras.preprocessing.image import ImageDataGenerator\n",
    "\n",
    "# All images will be rescaled by 1./255\n",
    "train_datagen = ImageDataGenerator(rescale=1./255)\n",
    "validation_datagen = ImageDataGenerator(rescale=1./255)\n",
    "\n",
    "train_generator = train_datagen.flow_from_directory(\n",
    "        # This is the target directory\n",
    "        train_dir,\n",
    "        # All images will be resized to 150x150\n",
    "        target_size=(150, 150),\n",
    "        batch_size=20,\n",
    "        # Since we use binary_crossentropy loss, we need binary labels\n",
    "        class_mode='categorical')\n",
    "\n",
    "validation_generator = validation_datagen.flow_from_directory(\n",
    "        validation_dir,\n",
    "        target_size=(150, 150),\n",
    "        batch_size=20,\n",
    "        class_mode='categorical')\n",
    "\n",
    "from keras import layers\n",
    "from keras import models\n",
    "\n",
    "model = models.Sequential()\n",
    "model.add(layers.Conv2D(32, (3, 3), activation='relu',\n",
    "                        input_shape=(150, 150, 3)))\n",
    "model.add(layers.MaxPooling2D((2, 2)))\n",
    "model.add(layers.Conv2D(64, (3, 3), activation='relu'))\n",
    "model.add(layers.MaxPooling2D((2, 2)))\n",
    "model.add(layers.Conv2D(128, (3, 3), activation='relu'))\n",
    "model.add(layers.MaxPooling2D((2, 2)))\n",
    "model.add(layers.Conv2D(128, (3, 3), activation='relu'))\n",
    "model.add(layers.MaxPooling2D((2, 2)))\n",
    "model.add(layers.Flatten())\n",
    "model.add(layers.Dense(512, activation='relu'))\n",
    "model.add(layers.Dense(n_labels, activation='softmax'))\n",
    "\n",
    "model.summary()\n",
    "\n",
    "from keras import optimizers\n",
    "\n",
    "model.compile(loss='categorical_crossentropy',\n",
    "              optimizer=optimizers.adam(),\n",
    "              metrics=['acc'])\n",
    "\n",
    "history = model.fit_generator(\n",
    "      train_generator,\n",
    "      steps_per_epoch=100,\n",
    "      epochs=30,\n",
    "      validation_data=validation_generator,\n",
    "      validation_steps=50)\n",
    "\n",
    "model.save('cnn_baseline_mobile.h5')\n",
    "\n",
    "import matplotlib.pyplot as plt\n",
    "\n",
    "acc = history.history['acc']\n",
    "val_acc = history.history['val_acc']\n",
    "loss = history.history['loss']\n",
    "val_loss = history.history['val_loss']\n",
    "\n",
    "epochs = range(len(acc))\n",
    "\n",
    "plt.plot(epochs, acc, 'bo', label='Training acc')\n",
    "plt.plot(epochs, val_acc, 'b', label='Validation acc')\n",
    "plt.title('Training and validation accuracy')\n",
    "plt.legend()\n",
    "\n",
    "plt.figure()\n",
    "\n",
    "plt.plot(epochs, loss, 'bo', label='Training loss')\n",
    "plt.plot(epochs, val_loss, 'b', label='Validation loss')\n",
    "plt.title('Training and validation loss')\n",
    "plt.legend()\n",
    "\n",
    "plt.show()\n",
    "\n",
    "test_datagen = ImageDataGenerator(rescale=1./255)\n",
    "test_generator = test_datagen.flow_from_directory(\n",
    "        test_dir,\n",
    "        target_size=(150, 150),\n",
    "        batch_size=20,\n",
    "        class_mode='categorical')\n",
    "\n",
    "test_loss, test_acc = model.evaluate_generator(test_generator, steps=50)\n",
    "print('test acc:', test_acc)"
   ]
  },
  {
   "cell_type": "code",
   "execution_count": 1,
   "metadata": {},
   "outputs": [
    {
     "name": "stderr",
     "output_type": "stream",
     "text": [
      "/Users/pengyu/anaconda3/lib/python3.6/site-packages/h5py/__init__.py:34: FutureWarning: Conversion of the second argument of issubdtype from `float` to `np.floating` is deprecated. In future, it will be treated as `np.float64 == np.dtype(float).type`.\n",
      "  from ._conv import register_converters as _register_converters\n",
      "Using TensorFlow backend.\n"
     ]
    }
   ],
   "source": [
    "from keras import models"
   ]
  },
  {
   "cell_type": "code",
   "execution_count": 2,
   "metadata": {},
   "outputs": [
    {
     "name": "stdout",
     "output_type": "stream",
     "text": [
      "WARNING:tensorflow:From /Users/pengyu/anaconda3/lib/python3.6/site-packages/tensorflow/python/framework/op_def_library.py:263: colocate_with (from tensorflow.python.framework.ops) is deprecated and will be removed in a future version.\n",
      "Instructions for updating:\n",
      "Colocations handled automatically by placer.\n",
      "WARNING:tensorflow:From /Users/pengyu/anaconda3/lib/python3.6/site-packages/tensorflow/python/ops/math_ops.py:3066: to_int32 (from tensorflow.python.ops.math_ops) is deprecated and will be removed in a future version.\n",
      "Instructions for updating:\n",
      "Use tf.cast instead.\n"
     ]
    }
   ],
   "source": [
    "mobile_clf = models.load_model('cnn_baseline_mobile.h5')\n",
    "fashion_clf = models.load_model('cnn_baseline_fashion.h5')\n",
    "beauty_clf = models.load_model('cnn_baseline_beauty.h5')"
   ]
  },
  {
   "cell_type": "code",
   "execution_count": 3,
   "metadata": {
    "collapsed": true
   },
   "outputs": [],
   "source": [
    "from keras.preprocessing.image import ImageDataGenerator"
   ]
  },
  {
   "cell_type": "code",
   "execution_count": 4,
   "metadata": {
    "collapsed": true
   },
   "outputs": [],
   "source": [
    "import os"
   ]
  },
  {
   "cell_type": "code",
   "execution_count": 5,
   "metadata": {
    "collapsed": true
   },
   "outputs": [],
   "source": [
    "base_dir = os.path.join(os.getcwd(), 'Test')\n",
    "mobile_dir = os.path.join(base_dir, 'Mobile')\n",
    "fashion_dir = os.path.join(base_dir, 'Fashion')\n",
    "beauty_dir = os.path.join(base_dir, 'Beauty')"
   ]
  },
  {
   "cell_type": "code",
   "execution_count": 6,
   "metadata": {
    "collapsed": true
   },
   "outputs": [],
   "source": [
    "import pandas as pd"
   ]
  },
  {
   "cell_type": "code",
   "execution_count": 7,
   "metadata": {
    "collapsed": true
   },
   "outputs": [],
   "source": [
    "test_data = pd.read_csv('test.csv')"
   ]
  },
  {
   "cell_type": "code",
   "execution_count": 14,
   "metadata": {},
   "outputs": [
    {
     "data": {
      "text/html": [
       "<div>\n",
       "<style>\n",
       "    .dataframe thead tr:only-child th {\n",
       "        text-align: right;\n",
       "    }\n",
       "\n",
       "    .dataframe thead th {\n",
       "        text-align: left;\n",
       "    }\n",
       "\n",
       "    .dataframe tbody tr th {\n",
       "        vertical-align: top;\n",
       "    }\n",
       "</style>\n",
       "<table border=\"1\" class=\"dataframe\">\n",
       "  <thead>\n",
       "    <tr style=\"text-align: right;\">\n",
       "      <th></th>\n",
       "      <th>itemid</th>\n",
       "      <th>title</th>\n",
       "      <th>image_path</th>\n",
       "    </tr>\n",
       "  </thead>\n",
       "  <tbody>\n",
       "    <tr>\n",
       "      <th>0</th>\n",
       "      <td>370855998</td>\n",
       "      <td>flormar 7 white cream bb spf 30 40ml</td>\n",
       "      <td>beauty_image/1588591395c5a254bab84042005f2a9f.jpg</td>\n",
       "    </tr>\n",
       "    <tr>\n",
       "      <th>1</th>\n",
       "      <td>637234604</td>\n",
       "      <td>maybelline clear smooth all in one bb cream sp...</td>\n",
       "      <td>beauty_image/920985ed9587ea20f58686ea74e20f93.jpg</td>\n",
       "    </tr>\n",
       "    <tr>\n",
       "      <th>2</th>\n",
       "      <td>690282890</td>\n",
       "      <td>murah innisfree eco natural green tea bb cream...</td>\n",
       "      <td>beauty_image/90b40e5710f54352b243fcfb0f5d1d7f.jpg</td>\n",
       "    </tr>\n",
       "    <tr>\n",
       "      <th>3</th>\n",
       "      <td>930913462</td>\n",
       "      <td>loreal white perfect day cream spf 17 pa white...</td>\n",
       "      <td>beauty_image/289c668ef3d70e1d929d602d52d5d78a.jpg</td>\n",
       "    </tr>\n",
       "    <tr>\n",
       "      <th>4</th>\n",
       "      <td>1039280071</td>\n",
       "      <td>hada labo cc cream ultimate anti aging spf 35 ...</td>\n",
       "      <td>beauty_image/d5b3e652c5822d2306f4560488ec30c6.jpg</td>\n",
       "    </tr>\n",
       "    <tr>\n",
       "      <th>5</th>\n",
       "      <td>1327710392</td>\n",
       "      <td>cathy doll cc speed white powder pact spf 40 o...</td>\n",
       "      <td>beauty_image/e1e50828d5594721a7d5d5c1ff78afbd.jpg</td>\n",
       "    </tr>\n",
       "    <tr>\n",
       "      <th>6</th>\n",
       "      <td>1328802799</td>\n",
       "      <td>safi white natural brightening cream 45g</td>\n",
       "      <td>beauty_image/97ec852d5afc5d82ac02b80083cf292f.jpg</td>\n",
       "    </tr>\n",
       "    <tr>\n",
       "      <th>7</th>\n",
       "      <td>1330468145</td>\n",
       "      <td>light beige 03 bioaqua bb cushion exquisite de...</td>\n",
       "      <td>beauty_image/8ce1a5fe546f0cc795329bad599a8d5a.jpg</td>\n",
       "    </tr>\n",
       "    <tr>\n",
       "      <th>8</th>\n",
       "      <td>1677309730</td>\n",
       "      <td>new produk missha m perfect bb cream share in ...</td>\n",
       "      <td>beauty_image/755fcc85c687e8cb53d2a8d43ebfe251.jpg</td>\n",
       "    </tr>\n",
       "    <tr>\n",
       "      <th>9</th>\n",
       "      <td>1683142205</td>\n",
       "      <td>ready laneige bb cushion anti aging spf 50 pa</td>\n",
       "      <td>beauty_image/34b56398c099505c650cf2447dc9f21f.jpg</td>\n",
       "    </tr>\n",
       "    <tr>\n",
       "      <th>10</th>\n",
       "      <td>1704308849</td>\n",
       "      <td>terupdate laneige bb cushion anti aging spf 50...</td>\n",
       "      <td>beauty_image/14e877565dc242ef23a5e9ceed761f43.jpg</td>\n",
       "    </tr>\n",
       "    <tr>\n",
       "      <th>11</th>\n",
       "      <td>1736407742</td>\n",
       "      <td>new collection bioaqua cushion blush on smooth...</td>\n",
       "      <td>beauty_image/9e715ef52b874031ef9c89596c605a77.jpg</td>\n",
       "    </tr>\n",
       "    <tr>\n",
       "      <th>12</th>\n",
       "      <td>1747613934</td>\n",
       "      <td>blp beauty face powder light beige preloved li...</td>\n",
       "      <td>beauty_image/6596cee7f70fd5de062cc964b2ae0ff3.jpg</td>\n",
       "    </tr>\n",
       "    <tr>\n",
       "      <th>13</th>\n",
       "      <td>1793784525</td>\n",
       "      <td>big discount set garnier sakura white pinkish ...</td>\n",
       "      <td>beauty_image/bb836486176dd903cf07425ff71ad797.jpg</td>\n",
       "    </tr>\n",
       "    <tr>\n",
       "      <th>14</th>\n",
       "      <td>300165176</td>\n",
       "      <td>the saem eco soul spau bb stick 12g 02 natural...</td>\n",
       "      <td>beauty_image/74b36adc0d6da15acf9ddb427ec39431.jpg</td>\n",
       "    </tr>\n",
       "    <tr>\n",
       "      <th>15</th>\n",
       "      <td>318893351</td>\n",
       "      <td>dear klairs illuminating supple blemish cream ...</td>\n",
       "      <td>beauty_image/633b9ea51b7c8266c6d1aa52f6bf83ca.jpg</td>\n",
       "    </tr>\n",
       "    <tr>\n",
       "      <th>16</th>\n",
       "      <td>470655865</td>\n",
       "      <td>theraskin loose powder kn bedak tabur kuning n...</td>\n",
       "      <td>beauty_image/668905ce831fe9ea946b55117d7679e6.jpg</td>\n",
       "    </tr>\n",
       "    <tr>\n",
       "      <th>17</th>\n",
       "      <td>580992667</td>\n",
       "      <td>laneige water glow base corrector spf 41 3 col...</td>\n",
       "      <td>beauty_image/d00a3588c94a63dffedf6978d5a7cb39.jpg</td>\n",
       "    </tr>\n",
       "    <tr>\n",
       "      <th>18</th>\n",
       "      <td>661957090</td>\n",
       "      <td>terbaru chanel cc cream complete correction sp...</td>\n",
       "      <td>beauty_image/f42a59df3aaa75cc1b5bb3356d759da6.jpg</td>\n",
       "    </tr>\n",
       "    <tr>\n",
       "      <th>19</th>\n",
       "      <td>728370998</td>\n",
       "      <td>compact powder viva kuning langsat pengantin n...</td>\n",
       "      <td>beauty_image/e2e3487c251f127f59ffb8b0e7079ad2.jpg</td>\n",
       "    </tr>\n",
       "    <tr>\n",
       "      <th>20</th>\n",
       "      <td>1260578917</td>\n",
       "      <td>gudetama holika face powder in shade 23 natura...</td>\n",
       "      <td>beauty_image/202d01c2bbcc56038c1051ebd5cd239e.jpg</td>\n",
       "    </tr>\n",
       "    <tr>\n",
       "      <th>21</th>\n",
       "      <td>1399470755</td>\n",
       "      <td>envygreen natural acne powder 20g</td>\n",
       "      <td>beauty_image/03f17fe433bb161a7e36023ac2b311c7.jpg</td>\n",
       "    </tr>\n",
       "    <tr>\n",
       "      <th>22</th>\n",
       "      <td>1409474454</td>\n",
       "      <td>sale olay white radiance intensive whitening c...</td>\n",
       "      <td>beauty_image/4e8ce137b2544cc1caf5dcaec9386e6f.jpg</td>\n",
       "    </tr>\n",
       "    <tr>\n",
       "      <th>23</th>\n",
       "      <td>1555896544</td>\n",
       "      <td>laneige refill bb cushion anti aging spf 50 pa...</td>\n",
       "      <td>beauty_image/0f2e4de6c76199a2033b5500df858dee.jpg</td>\n",
       "    </tr>\n",
       "    <tr>\n",
       "      <th>24</th>\n",
       "      <td>1631417975</td>\n",
       "      <td>marcks venus compact powder natural beige bedak</td>\n",
       "      <td>beauty_image/345f61653ccd9c9b8381f22172ea2bb6.jpg</td>\n",
       "    </tr>\n",
       "    <tr>\n",
       "      <th>25</th>\n",
       "      <td>1679201529</td>\n",
       "      <td>refill laneige bb cushion anti aging spf 50 pa...</td>\n",
       "      <td>beauty_image/7be3fa46c09d40f5722ef46d96787a56.jpg</td>\n",
       "    </tr>\n",
       "    <tr>\n",
       "      <th>26</th>\n",
       "      <td>1728769387</td>\n",
       "      <td>kteg face powder blp light beige 3jlv</td>\n",
       "      <td>beauty_image/9c9f86a662e814ffea3136d397272484.jpg</td>\n",
       "    </tr>\n",
       "    <tr>\n",
       "      <th>27</th>\n",
       "      <td>1734623672</td>\n",
       "      <td>terupdate laneige waterbase cc cream spf 36 pa...</td>\n",
       "      <td>beauty_image/cab4765543d0028e1d5b6c4486af0f20.jpg</td>\n",
       "    </tr>\n",
       "    <tr>\n",
       "      <th>28</th>\n",
       "      <td>1760895527</td>\n",
       "      <td>dr pure white natural lightning cream</td>\n",
       "      <td>beauty_image/e0f9a0875b2a9ca0a20de2c7ddd798c8.jpg</td>\n",
       "    </tr>\n",
       "    <tr>\n",
       "      <th>29</th>\n",
       "      <td>1830918439</td>\n",
       "      <td>stock banyak april skin pink cushion for dry o...</td>\n",
       "      <td>beauty_image/24bc91e8840bcb3b62766770e4e34fc1.jpg</td>\n",
       "    </tr>\n",
       "    <tr>\n",
       "      <th>...</th>\n",
       "      <td>...</td>\n",
       "      <td>...</td>\n",
       "      <td>...</td>\n",
       "    </tr>\n",
       "    <tr>\n",
       "      <th>172372</th>\n",
       "      <td>1216935158</td>\n",
       "      <td>oppo r11s new bnib</td>\n",
       "      <td>mobile_image/f0751f01d81d6527018c161cfc29ca4a.jpg</td>\n",
       "    </tr>\n",
       "    <tr>\n",
       "      <th>172373</th>\n",
       "      <td>311199291</td>\n",
       "      <td>oppo a39 gold ram 3gb internal 32gb</td>\n",
       "      <td>mobile_image/092f35beea97b2b5f989d5f658fdc0f9.jpg</td>\n",
       "    </tr>\n",
       "    <tr>\n",
       "      <th>172374</th>\n",
       "      <td>1694824763</td>\n",
       "      <td>nokia 6 4g lte ram 3gb rom 32gb segel murah ga...</td>\n",
       "      <td>mobile_image/7dd9172e8f8da1274ecafabecef309ea.jpg</td>\n",
       "    </tr>\n",
       "    <tr>\n",
       "      <th>172375</th>\n",
       "      <td>1034284267</td>\n",
       "      <td>ready stock sharp r1 5.2 ips hd 3 32gb 13 8 mp...</td>\n",
       "      <td>mobile_image/d3c6c4ba3d51496828ec4d12087ac70c.jpg</td>\n",
       "    </tr>\n",
       "    <tr>\n",
       "      <th>172376</th>\n",
       "      <td>1059390085</td>\n",
       "      <td>promo infinix hot s3 topaz blue</td>\n",
       "      <td>mobile_image/c95b1d431b4bb522fa7d6b8af0e8b599.jpg</td>\n",
       "    </tr>\n",
       "    <tr>\n",
       "      <th>172377</th>\n",
       "      <td>1839788366</td>\n",
       "      <td>iphone 7 gold 32gb garansi 1tahun</td>\n",
       "      <td>mobile_image/aa5faeff09fe4e1f74332a0a71112126.jpg</td>\n",
       "    </tr>\n",
       "    <tr>\n",
       "      <th>172378</th>\n",
       "      <td>704126195</td>\n",
       "      <td>evercoss genpro z 4g lte ram 4gb 32gb garansi ...</td>\n",
       "      <td>mobile_image/652a463961e37ee1cbde207367384a2f.jpg</td>\n",
       "    </tr>\n",
       "    <tr>\n",
       "      <th>172379</th>\n",
       "      <td>1210020180</td>\n",
       "      <td>diskon15 infinix hot s3 3 32gb layar 18:9 self...</td>\n",
       "      <td>mobile_image/1a9dd9bf474fb79f4a0980226d482454.jpg</td>\n",
       "    </tr>\n",
       "    <tr>\n",
       "      <th>172380</th>\n",
       "      <td>1568003530</td>\n",
       "      <td>diskon 50 cuci gudang asus zenfone 5q 4 64 zc6...</td>\n",
       "      <td>mobile_image/cb2797dd2bd6be9178599d787609480e.jpg</td>\n",
       "    </tr>\n",
       "    <tr>\n",
       "      <th>172381</th>\n",
       "      <td>1186786053</td>\n",
       "      <td>sharp m1 aquos 4g lte ram 3gb 64gb resmi</td>\n",
       "      <td>mobile_image/83adb7a0aeb8f3fc6457164fb28444ed.jpg</td>\n",
       "    </tr>\n",
       "    <tr>\n",
       "      <th>172382</th>\n",
       "      <td>1822896387</td>\n",
       "      <td>asus zenfone max m2 3gb 32gb zb633kl midnight ...</td>\n",
       "      <td>mobile_image/896dc978860e38b092fba3c7dc97e830.jpg</td>\n",
       "    </tr>\n",
       "    <tr>\n",
       "      <th>172383</th>\n",
       "      <td>919038573</td>\n",
       "      <td>minat serius chat di wa 083123426159 iphone 5s...</td>\n",
       "      <td>mobile_image/542f2eb6810bd8d3b62d92e1dab33bc7.jpg</td>\n",
       "    </tr>\n",
       "    <tr>\n",
       "      <th>172384</th>\n",
       "      <td>1839836526</td>\n",
       "      <td>big promo add whatshap 0821 9127 5399 iphone 7...</td>\n",
       "      <td>mobile_image/7df4833f2683c89f9009688dad4541c0.jpg</td>\n",
       "    </tr>\n",
       "    <tr>\n",
       "      <th>172385</th>\n",
       "      <td>1397082442</td>\n",
       "      <td>ready samsung galaxy j8 2018 edition gold gara...</td>\n",
       "      <td>mobile_image/1d8f791041590e7de4286702f57f7bb2.jpg</td>\n",
       "    </tr>\n",
       "    <tr>\n",
       "      <th>172386</th>\n",
       "      <td>1740028202</td>\n",
       "      <td>promo xiaomi mi a2 prime ram 6gb internal 128g...</td>\n",
       "      <td>mobile_image/17ae0a8ae4da4363b31685f509beff2f.jpg</td>\n",
       "    </tr>\n",
       "    <tr>\n",
       "      <th>172387</th>\n",
       "      <td>349452481</td>\n",
       "      <td>asus zenfone zoom s ze553kl free tongsis rings...</td>\n",
       "      <td>mobile_image/177787347e3b058707b644825149d8c6.jpg</td>\n",
       "    </tr>\n",
       "    <tr>\n",
       "      <th>172388</th>\n",
       "      <td>1098672042</td>\n",
       "      <td>unik xiaomi mi a1 4g lte ram 4gb 64gb black ga...</td>\n",
       "      <td>mobile_image/dac07096a5a8905b1b01cff9dd617d13.jpg</td>\n",
       "    </tr>\n",
       "    <tr>\n",
       "      <th>172389</th>\n",
       "      <td>1761239629</td>\n",
       "      <td>big promo akhir tahun distributor asus zenfone...</td>\n",
       "      <td>mobile_image/db3e640d9168a0090723bba49e27cf3a.jpg</td>\n",
       "    </tr>\n",
       "    <tr>\n",
       "      <th>172390</th>\n",
       "      <td>1839767194</td>\n",
       "      <td>iphone 7 red 32gb garansi 1tahun</td>\n",
       "      <td>mobile_image/2614f45db17795b21e668ef494f596e8.jpg</td>\n",
       "    </tr>\n",
       "    <tr>\n",
       "      <th>172391</th>\n",
       "      <td>976294675</td>\n",
       "      <td>vivo y69 ram 3gb rom 32gb 4lte</td>\n",
       "      <td>mobile_image/209a103c811bb208cd4a01c05ffb3434.jpg</td>\n",
       "    </tr>\n",
       "    <tr>\n",
       "      <th>172392</th>\n",
       "      <td>1388680945</td>\n",
       "      <td>super sale agustus samsung galaxy a8 star 2018...</td>\n",
       "      <td>mobile_image/83f130a0f3acb1e2e24cad9e3a89cc44.jpg</td>\n",
       "    </tr>\n",
       "    <tr>\n",
       "      <th>172393</th>\n",
       "      <td>966489015</td>\n",
       "      <td>oppo f5 4 32 gold garansi 1 tahun</td>\n",
       "      <td>mobile_image/acd4525c0b6fbf654285d77bbe341d17.jpg</td>\n",
       "    </tr>\n",
       "    <tr>\n",
       "      <th>172394</th>\n",
       "      <td>1013677956</td>\n",
       "      <td>bli 2 gratis 1 wa 082292409969 vivo v7 gold ra...</td>\n",
       "      <td>mobile_image/431aaec705e039327834960f37f6654b.jpg</td>\n",
       "    </tr>\n",
       "    <tr>\n",
       "      <th>172395</th>\n",
       "      <td>1038729298</td>\n",
       "      <td>promo cuci gudang spesial gudan beli 2 gratis ...</td>\n",
       "      <td>mobile_image/a5d932dbcfa90f2eb8684fc187b6593c.jpg</td>\n",
       "    </tr>\n",
       "    <tr>\n",
       "      <th>172396</th>\n",
       "      <td>1062060975</td>\n",
       "      <td>promo khusus hari ini saja infinix hot s3 x573...</td>\n",
       "      <td>mobile_image/456f628f268a1f793ae03624b585a17c.jpg</td>\n",
       "    </tr>\n",
       "    <tr>\n",
       "      <th>172397</th>\n",
       "      <td>1781957365</td>\n",
       "      <td>nokia 5.1 plus ram 3gb 32gb garansi resmi 1 ta...</td>\n",
       "      <td>mobile_image/3dbd99b9d999d326d8ae57f7ad1f1b3e.jpg</td>\n",
       "    </tr>\n",
       "    <tr>\n",
       "      <th>172398</th>\n",
       "      <td>1839851276</td>\n",
       "      <td>big promo add whatshap 0821 9127 5399 iphone 7...</td>\n",
       "      <td>mobile_image/6d45e5c7e36ac897f58a9f72ff4bf0b8.jpg</td>\n",
       "    </tr>\n",
       "    <tr>\n",
       "      <th>172399</th>\n",
       "      <td>955369303</td>\n",
       "      <td>datang lagi sharp r1 ram 3gb 32gb gratis silic...</td>\n",
       "      <td>mobile_image/08f68bb1cc3f381364776ac5cfd9e45e.jpg</td>\n",
       "    </tr>\n",
       "    <tr>\n",
       "      <th>172400</th>\n",
       "      <td>1638035772</td>\n",
       "      <td>sony xperia z5 premium au ram 3gb rom 32gb sec...</td>\n",
       "      <td>mobile_image/1d0610ea0f43d75ecc3ff951f6c647d4.jpg</td>\n",
       "    </tr>\n",
       "    <tr>\n",
       "      <th>172401</th>\n",
       "      <td>1498091427</td>\n",
       "      <td>xiaomi mi 8 ram 6 128gb black</td>\n",
       "      <td>mobile_image/6649fa043a7b2eebda6ed904c966a14b.jpg</td>\n",
       "    </tr>\n",
       "  </tbody>\n",
       "</table>\n",
       "<p>172402 rows × 3 columns</p>\n",
       "</div>"
      ],
      "text/plain": [
       "            itemid                                              title  \\\n",
       "0        370855998               flormar 7 white cream bb spf 30 40ml   \n",
       "1        637234604  maybelline clear smooth all in one bb cream sp...   \n",
       "2        690282890  murah innisfree eco natural green tea bb cream...   \n",
       "3        930913462  loreal white perfect day cream spf 17 pa white...   \n",
       "4       1039280071  hada labo cc cream ultimate anti aging spf 35 ...   \n",
       "5       1327710392  cathy doll cc speed white powder pact spf 40 o...   \n",
       "6       1328802799           safi white natural brightening cream 45g   \n",
       "7       1330468145  light beige 03 bioaqua bb cushion exquisite de...   \n",
       "8       1677309730  new produk missha m perfect bb cream share in ...   \n",
       "9       1683142205      ready laneige bb cushion anti aging spf 50 pa   \n",
       "10      1704308849  terupdate laneige bb cushion anti aging spf 50...   \n",
       "11      1736407742  new collection bioaqua cushion blush on smooth...   \n",
       "12      1747613934  blp beauty face powder light beige preloved li...   \n",
       "13      1793784525  big discount set garnier sakura white pinkish ...   \n",
       "14       300165176  the saem eco soul spau bb stick 12g 02 natural...   \n",
       "15       318893351  dear klairs illuminating supple blemish cream ...   \n",
       "16       470655865  theraskin loose powder kn bedak tabur kuning n...   \n",
       "17       580992667  laneige water glow base corrector spf 41 3 col...   \n",
       "18       661957090  terbaru chanel cc cream complete correction sp...   \n",
       "19       728370998  compact powder viva kuning langsat pengantin n...   \n",
       "20      1260578917  gudetama holika face powder in shade 23 natura...   \n",
       "21      1399470755                  envygreen natural acne powder 20g   \n",
       "22      1409474454  sale olay white radiance intensive whitening c...   \n",
       "23      1555896544  laneige refill bb cushion anti aging spf 50 pa...   \n",
       "24      1631417975    marcks venus compact powder natural beige bedak   \n",
       "25      1679201529  refill laneige bb cushion anti aging spf 50 pa...   \n",
       "26      1728769387              kteg face powder blp light beige 3jlv   \n",
       "27      1734623672  terupdate laneige waterbase cc cream spf 36 pa...   \n",
       "28      1760895527              dr pure white natural lightning cream   \n",
       "29      1830918439  stock banyak april skin pink cushion for dry o...   \n",
       "...            ...                                                ...   \n",
       "172372  1216935158                                 oppo r11s new bnib   \n",
       "172373   311199291                oppo a39 gold ram 3gb internal 32gb   \n",
       "172374  1694824763  nokia 6 4g lte ram 3gb rom 32gb segel murah ga...   \n",
       "172375  1034284267  ready stock sharp r1 5.2 ips hd 3 32gb 13 8 mp...   \n",
       "172376  1059390085                    promo infinix hot s3 topaz blue   \n",
       "172377  1839788366                  iphone 7 gold 32gb garansi 1tahun   \n",
       "172378   704126195  evercoss genpro z 4g lte ram 4gb 32gb garansi ...   \n",
       "172379  1210020180  diskon15 infinix hot s3 3 32gb layar 18:9 self...   \n",
       "172380  1568003530  diskon 50 cuci gudang asus zenfone 5q 4 64 zc6...   \n",
       "172381  1186786053           sharp m1 aquos 4g lte ram 3gb 64gb resmi   \n",
       "172382  1822896387  asus zenfone max m2 3gb 32gb zb633kl midnight ...   \n",
       "172383   919038573  minat serius chat di wa 083123426159 iphone 5s...   \n",
       "172384  1839836526  big promo add whatshap 0821 9127 5399 iphone 7...   \n",
       "172385  1397082442  ready samsung galaxy j8 2018 edition gold gara...   \n",
       "172386  1740028202  promo xiaomi mi a2 prime ram 6gb internal 128g...   \n",
       "172387   349452481  asus zenfone zoom s ze553kl free tongsis rings...   \n",
       "172388  1098672042  unik xiaomi mi a1 4g lte ram 4gb 64gb black ga...   \n",
       "172389  1761239629  big promo akhir tahun distributor asus zenfone...   \n",
       "172390  1839767194                   iphone 7 red 32gb garansi 1tahun   \n",
       "172391   976294675                     vivo y69 ram 3gb rom 32gb 4lte   \n",
       "172392  1388680945  super sale agustus samsung galaxy a8 star 2018...   \n",
       "172393   966489015                  oppo f5 4 32 gold garansi 1 tahun   \n",
       "172394  1013677956  bli 2 gratis 1 wa 082292409969 vivo v7 gold ra...   \n",
       "172395  1038729298  promo cuci gudang spesial gudan beli 2 gratis ...   \n",
       "172396  1062060975  promo khusus hari ini saja infinix hot s3 x573...   \n",
       "172397  1781957365  nokia 5.1 plus ram 3gb 32gb garansi resmi 1 ta...   \n",
       "172398  1839851276  big promo add whatshap 0821 9127 5399 iphone 7...   \n",
       "172399   955369303  datang lagi sharp r1 ram 3gb 32gb gratis silic...   \n",
       "172400  1638035772  sony xperia z5 premium au ram 3gb rom 32gb sec...   \n",
       "172401  1498091427                      xiaomi mi 8 ram 6 128gb black   \n",
       "\n",
       "                                               image_path  \n",
       "0       beauty_image/1588591395c5a254bab84042005f2a9f.jpg  \n",
       "1       beauty_image/920985ed9587ea20f58686ea74e20f93.jpg  \n",
       "2       beauty_image/90b40e5710f54352b243fcfb0f5d1d7f.jpg  \n",
       "3       beauty_image/289c668ef3d70e1d929d602d52d5d78a.jpg  \n",
       "4       beauty_image/d5b3e652c5822d2306f4560488ec30c6.jpg  \n",
       "5       beauty_image/e1e50828d5594721a7d5d5c1ff78afbd.jpg  \n",
       "6       beauty_image/97ec852d5afc5d82ac02b80083cf292f.jpg  \n",
       "7       beauty_image/8ce1a5fe546f0cc795329bad599a8d5a.jpg  \n",
       "8       beauty_image/755fcc85c687e8cb53d2a8d43ebfe251.jpg  \n",
       "9       beauty_image/34b56398c099505c650cf2447dc9f21f.jpg  \n",
       "10      beauty_image/14e877565dc242ef23a5e9ceed761f43.jpg  \n",
       "11      beauty_image/9e715ef52b874031ef9c89596c605a77.jpg  \n",
       "12      beauty_image/6596cee7f70fd5de062cc964b2ae0ff3.jpg  \n",
       "13      beauty_image/bb836486176dd903cf07425ff71ad797.jpg  \n",
       "14      beauty_image/74b36adc0d6da15acf9ddb427ec39431.jpg  \n",
       "15      beauty_image/633b9ea51b7c8266c6d1aa52f6bf83ca.jpg  \n",
       "16      beauty_image/668905ce831fe9ea946b55117d7679e6.jpg  \n",
       "17      beauty_image/d00a3588c94a63dffedf6978d5a7cb39.jpg  \n",
       "18      beauty_image/f42a59df3aaa75cc1b5bb3356d759da6.jpg  \n",
       "19      beauty_image/e2e3487c251f127f59ffb8b0e7079ad2.jpg  \n",
       "20      beauty_image/202d01c2bbcc56038c1051ebd5cd239e.jpg  \n",
       "21      beauty_image/03f17fe433bb161a7e36023ac2b311c7.jpg  \n",
       "22      beauty_image/4e8ce137b2544cc1caf5dcaec9386e6f.jpg  \n",
       "23      beauty_image/0f2e4de6c76199a2033b5500df858dee.jpg  \n",
       "24      beauty_image/345f61653ccd9c9b8381f22172ea2bb6.jpg  \n",
       "25      beauty_image/7be3fa46c09d40f5722ef46d96787a56.jpg  \n",
       "26      beauty_image/9c9f86a662e814ffea3136d397272484.jpg  \n",
       "27      beauty_image/cab4765543d0028e1d5b6c4486af0f20.jpg  \n",
       "28      beauty_image/e0f9a0875b2a9ca0a20de2c7ddd798c8.jpg  \n",
       "29      beauty_image/24bc91e8840bcb3b62766770e4e34fc1.jpg  \n",
       "...                                                   ...  \n",
       "172372  mobile_image/f0751f01d81d6527018c161cfc29ca4a.jpg  \n",
       "172373  mobile_image/092f35beea97b2b5f989d5f658fdc0f9.jpg  \n",
       "172374  mobile_image/7dd9172e8f8da1274ecafabecef309ea.jpg  \n",
       "172375  mobile_image/d3c6c4ba3d51496828ec4d12087ac70c.jpg  \n",
       "172376  mobile_image/c95b1d431b4bb522fa7d6b8af0e8b599.jpg  \n",
       "172377  mobile_image/aa5faeff09fe4e1f74332a0a71112126.jpg  \n",
       "172378  mobile_image/652a463961e37ee1cbde207367384a2f.jpg  \n",
       "172379  mobile_image/1a9dd9bf474fb79f4a0980226d482454.jpg  \n",
       "172380  mobile_image/cb2797dd2bd6be9178599d787609480e.jpg  \n",
       "172381  mobile_image/83adb7a0aeb8f3fc6457164fb28444ed.jpg  \n",
       "172382  mobile_image/896dc978860e38b092fba3c7dc97e830.jpg  \n",
       "172383  mobile_image/542f2eb6810bd8d3b62d92e1dab33bc7.jpg  \n",
       "172384  mobile_image/7df4833f2683c89f9009688dad4541c0.jpg  \n",
       "172385  mobile_image/1d8f791041590e7de4286702f57f7bb2.jpg  \n",
       "172386  mobile_image/17ae0a8ae4da4363b31685f509beff2f.jpg  \n",
       "172387  mobile_image/177787347e3b058707b644825149d8c6.jpg  \n",
       "172388  mobile_image/dac07096a5a8905b1b01cff9dd617d13.jpg  \n",
       "172389  mobile_image/db3e640d9168a0090723bba49e27cf3a.jpg  \n",
       "172390  mobile_image/2614f45db17795b21e668ef494f596e8.jpg  \n",
       "172391  mobile_image/209a103c811bb208cd4a01c05ffb3434.jpg  \n",
       "172392  mobile_image/83f130a0f3acb1e2e24cad9e3a89cc44.jpg  \n",
       "172393  mobile_image/acd4525c0b6fbf654285d77bbe341d17.jpg  \n",
       "172394  mobile_image/431aaec705e039327834960f37f6654b.jpg  \n",
       "172395  mobile_image/a5d932dbcfa90f2eb8684fc187b6593c.jpg  \n",
       "172396  mobile_image/456f628f268a1f793ae03624b585a17c.jpg  \n",
       "172397  mobile_image/3dbd99b9d999d326d8ae57f7ad1f1b3e.jpg  \n",
       "172398  mobile_image/6d45e5c7e36ac897f58a9f72ff4bf0b8.jpg  \n",
       "172399  mobile_image/08f68bb1cc3f381364776ac5cfd9e45e.jpg  \n",
       "172400  mobile_image/1d0610ea0f43d75ecc3ff951f6c647d4.jpg  \n",
       "172401  mobile_image/6649fa043a7b2eebda6ed904c966a14b.jpg  \n",
       "\n",
       "[172402 rows x 3 columns]"
      ]
     },
     "execution_count": 14,
     "metadata": {},
     "output_type": "execute_result"
    }
   ],
   "source": [
    "test_data"
   ]
  },
  {
   "cell_type": "code",
   "execution_count": 8,
   "metadata": {
    "collapsed": true
   },
   "outputs": [],
   "source": [
    "def fix_path(path):\n",
    "    parts = path.split('/')\n",
    "    if parts[0] == 'beauty_image':\n",
    "        fixed = beauty_dir\n",
    "    elif parts[0] == 'fashion_image':\n",
    "        fixed = fashion_dir\n",
    "    else:\n",
    "        fixed = mobile_dir\n",
    "    return os.path.join(fixed, parts[1])"
   ]
  },
  {
   "cell_type": "code",
   "execution_count": 9,
   "metadata": {
    "collapsed": true
   },
   "outputs": [],
   "source": [
    "test_data['path'] = test_data['image_path'].transform(fix_path)"
   ]
  },
  {
   "cell_type": "code",
   "execution_count": 10,
   "metadata": {
    "collapsed": true
   },
   "outputs": [],
   "source": [
    "df_test = test_data"
   ]
  },
  {
   "cell_type": "code",
   "execution_count": 11,
   "metadata": {
    "collapsed": true
   },
   "outputs": [],
   "source": [
    "df_test_mobile = df_test.tail(40417)\n",
    "df_test_beauty = df_test.head(76545)\n",
    "df_test_fashion = df_test.iloc[76545:172402-40417]"
   ]
  },
  {
   "cell_type": "code",
   "execution_count": 12,
   "metadata": {},
   "outputs": [
    {
     "name": "stdout",
     "output_type": "stream",
     "text": [
      "Found 40417 images belonging to 34971 classes.\n",
      "Found 76545 images belonging to 55445 classes.\n",
      "Found 55440 images belonging to 51115 classes.\n"
     ]
    }
   ],
   "source": [
    "test_datagen = ImageDataGenerator(rescale=1./255)\n",
    "mobile_generator = test_datagen.flow_from_dataframe(\n",
    "        df_test_mobile,\n",
    "        x_col='path',\n",
    "        y_col='title',\n",
    "        target_size=(150, 150),\n",
    "        shuffle=False,\n",
    "        batch_size=1,\n",
    "        class_mode='categorical')\n",
    "beauty_generator = test_datagen.flow_from_dataframe(\n",
    "        df_test_beauty,\n",
    "        x_col='path',\n",
    "        y_col='title',\n",
    "        target_size=(150, 150),\n",
    "        shuffle=False,\n",
    "        batch_size=1,\n",
    "        class_mode='categorical')\n",
    "fashion_generator = test_datagen.flow_from_dataframe(\n",
    "        df_test_fashion,\n",
    "        x_col='path',\n",
    "        y_col='title',\n",
    "        target_size=(150, 150),\n",
    "        shuffle=False,\n",
    "        batch_size=1,\n",
    "        class_mode='categorical')"
   ]
  },
  {
   "cell_type": "code",
   "execution_count": 22,
   "metadata": {},
   "outputs": [
    {
     "data": {
      "text/plain": [
       "40417"
      ]
     },
     "execution_count": 22,
     "metadata": {},
     "output_type": "execute_result"
    }
   ],
   "source": [
    "mobile_generator.samples"
   ]
  },
  {
   "cell_type": "code",
   "execution_count": 13,
   "metadata": {},
   "outputs": [
    {
     "name": "stdout",
     "output_type": "stream",
     "text": [
      "40417/40417 [==============================] - 2148s 53ms/step\n"
     ]
    }
   ],
   "source": [
    "mobile_pred = mobile_clf.predict_generator(mobile_generator, steps=mobile_generator.samples, verbose=1)"
   ]
  },
  {
   "cell_type": "code",
   "execution_count": 30,
   "metadata": {},
   "outputs": [
    {
     "data": {
      "text/plain": [
       "array([[2.51924321e-02, 8.92867276e-04, 3.05710267e-02, ...,\n",
       "        1.17501488e-03, 3.07690591e-01, 9.13231671e-02],\n",
       "       [1.99394673e-02, 5.76437102e-04, 4.36000787e-02, ...,\n",
       "        1.07760017e-03, 8.08118880e-02, 8.68574455e-02],\n",
       "       [1.92005802e-02, 2.05761846e-03, 8.50468799e-02, ...,\n",
       "        5.25377644e-03, 5.63003235e-02, 1.29185975e-01],\n",
       "       ...,\n",
       "       [2.80675236e-02, 3.07546649e-03, 1.93130031e-01, ...,\n",
       "        7.42970791e-04, 7.66338557e-02, 4.50713784e-02],\n",
       "       [1.90047175e-02, 6.98613760e-04, 3.96812558e-02, ...,\n",
       "        2.06591189e-03, 7.26121366e-02, 1.84084520e-01],\n",
       "       [1.38955917e-02, 2.96038372e-04, 3.85015756e-02, ...,\n",
       "        6.45455439e-04, 1.04912296e-01, 8.07325318e-02]], dtype=float32)"
      ]
     },
     "execution_count": 30,
     "metadata": {},
     "output_type": "execute_result"
    }
   ],
   "source": [
    "mobile_pred"
   ]
  },
  {
   "cell_type": "code",
   "execution_count": 15,
   "metadata": {
    "collapsed": true
   },
   "outputs": [],
   "source": [
    "import numpy as np"
   ]
  },
  {
   "cell_type": "code",
   "execution_count": 16,
   "metadata": {},
   "outputs": [],
   "source": [
    "np.save('mobile_image_pred', mobile_pred)"
   ]
  },
  {
   "cell_type": "code",
   "execution_count": 17,
   "metadata": {},
   "outputs": [
    {
     "name": "stdout",
     "output_type": "stream",
     "text": [
      "55440/55440 [==============================] - 3823s 69ms/step\n"
     ]
    }
   ],
   "source": [
    "fashion_pred = fashion_clf.predict_generator(fashion_generator, steps=fashion_generator.samples, verbose=1)\n",
    "np.save('fashion_image_pred', fashion_pred)"
   ]
  },
  {
   "cell_type": "code",
   "execution_count": 18,
   "metadata": {},
   "outputs": [
    {
     "name": "stdout",
     "output_type": "stream",
     "text": [
      "22197/76545 [=======>......................] - ETA: 1:19:34- ET - - ETA: 1 - ETA: 1:39: - ETA: 1:39 - ETA:  - E - ETA: 1:39: - ETA: 1:39:3 - ETA: 1 - ETA: 1: - ETA: 1:3 - ETA: 1:3 - ETA: 1:39: - ETA: 1:39: - ETA:  - ETA - ETA: 1:39 - ETA: 1:39: - ETA: 1 - ETA: - ETA: 1 - ETA: 1:39: - ETA: 1:39 - ETA: 1: - ETA: 1:39: - ETA: 1:39:3 - ETA: 1: - ETA: 1:39:2 - ETA:  - ETA: 1:3 - ETA: 1:39: - ETA:  - ETA: 1:39: - ETA: 1: - ET - ETA: 1: - ETA: 1:3 - ETA: 1:39: - ETA: 1:39: - ET - ETA: 1:3 - ETA: 1:39 - ETA: 1: - ETA: 1:3 -  -  - ETA: 1:3 - ETA: 1:39: - E - ETA: 1:3 - ETA: 1:3 - E - ETA: 1:39 - ETA: 1:39 - ETA: 1 - ETA: 1: - ETA: 1:39 - ETA: 1:3 - ETA: - E - ETA: 1 - ETA: 1:39: - ETA: 1: - ETA: 1:39: - ETA: 1 - ETA: 1:3 - ETA: - ETA: 1:39:1 - - ETA: 1 - ETA: 1: - ETA: 1:39:0 - ETA: 1:39:0 - ETA: 1: - ETA:  - ETA: 1:39:0 - ETA: 1:39:0 - ETA: 1:3 - ETA: 1:39: - ETA: 1:39:0 - ETA: 1:3 - - ETA: - ETA - ETA: 1:39: - ETA: - ETA: 1:39:0 - ETA: 1:3 - E - ETA: 1:39:0 - ETA: 1:39 - ET -  - ETA: 1:39: - ETA: 1:3 - ETA: 1:3 - ETA: 1 - ETA: 1:39 - ETA: 1 - ETA: 1:39 - ETA: 1 - ETA: 1: - ETA: 1:39:0  - ETA: 1:38 - ETA: 1:3 - ETA: 1:38: - ETA: 1:38: - ETA: - ETA:  - ETA - ETA: 1:38:5 - ETA: 1:38:5 - ETA: 1: - ETA:  - ETA: 1:3 - ETA:  - ETA: 1:38: - ETA: 1:3 - ETA: 1:3 - E - ETA: 1: -  - ETA: 1 - ETA: 1:38:4 - ETA: 1:38: - ETA - ET - ETA: 1:38: - ETA: 1:3 - ETA: 1:38:4 - ETA: 1:38: - - ETA -  - ET - ETA: 1: - ETA: 1 - ETA: 1: -  - ETA: 1:38:4 - ETA: 1 - ETA: 1:38 - ETA: 1:38:4 - ETA: 1:38 - ETA: 1:38: - ETA:  - ETA: 1:38: -  - ETA: 1:38: - ETA: 1:38 - ETA: 1 - ETA: 1:38: - ETA: 1:38:3 - ET  - ETA: 1:38:3 - ETA: 1:38 - ETA: 1:38: - ETA: 1:3 - ETA: 1 - ETA: - E - ETA: 1:38:3 - ETA: 1:38: - ETA: 1:38:3 - ETA: 1:38 - ETA: - ETA: 1:38 - ETA:  - ETA: 1:38:3  - ETA: 1:38:3 - ETA: 1:38: - ETA: 1:38: -  - ET - ETA: 1:38:3 - ETA - ETA: - ETA: 1:38:2 - ETA: 1:3 - ETA: 1:3 - ETA: 1: - ETA:  - ETA: 1:38: - ETA: 1:3 - ETA: 1:38:2 - ETA: 1:38 - ETA: 1 - ETA: 1:3 - ETA:  - ET - ETA: 1:3 - ETA: 1:38:2 - ETA: 1: - ETA: 1:38:2 - ETA: 1:38:1 - ETA: 1:38 - ETA:  - ETA - ETA: 1: - ETA: - E - ETA: 1:38:1 - ETA: 1:38 - ETA: 1:38:1 - ETA: 1 - ETA: 1:38: - ETA: 1: - - ETA: 1:38 - ETA: 1: - ETA: 1:3 - ETA: 1:38:1 - ETA: 1:38:1 - ETA: 1:3 - ET - ETA: 1:38 - E - ETA: 1:38 - - ETA: 1:38:0 - ETA: - ETA: 1:38:0 - ETA: 1:3 - ETA: 1:38:0 - ETA: 1:38: - ETA: 1:38: - ETA:  - ETA: 1:38:0 - ETA: 1:38 - E  - ETA: 1:3 - ETA: 1:38: - ETA: - ETA: 1:38 - ETA:  - ETA: 1:38 - ETA:  - ETA: 1:38: - ETA: 1:3 - ETA: 1:3 - ETA: - ETA: 1:38:0 - - ETA: 1:3 - ETA:  - - ETA - ETA: 1:38:0 - ETA:  - ETA - ETA: 1:37:  - ETA: 1 - ETA: 1:37: - ETA: 1:37: - ETA: 1:37:5 - ETA: 1 - ETA - ETA: 1:3 - ETA: 1:37: - ETA: - ETA: 1:37: - ETA: 1:37 - ETA: 1 - - ETA: 1:37: - ETA: - ETA: 1:37:4 - ETA: 1:37: - ETA: 1:37:4 - ETA: 1: - ETA: 1:37:4 - ETA: - ETA: 1:37 - ETA: 1 - ETA: 1:37: - ETA: 1:37 - ETA - ETA: - ETA: - - ETA: 1:37: - ETA: 1:37:3 - ETA: 1:37:3 - ETA: 1:3 - ETA: 1:37: - ETA: 1:3 - ETA: - ETA: 1:37: - ETA: 1:37: - ETA: 1:3 - ETA: 1:37 - ETA: 1 -  - ETA: 1: - ETA: 1:37 - ETA - ETA:  - ETA: 1:37: - ETA - ETA: 1:3 - ETA: 1:37:3 - ETA: 1:3 - ETA: 1:37: - ETA:  - ETA: 1 - ETA: 1:3 - ETA - ETA -  - ETA: 1:37 - ETA: 1 - ETA: 1:37: - ETA: 1:3 - ETA: 1 - ET  - - ETA: 1:37: - ETA: 1:3 - ETA: 1:37: - ETA: - ETA: 1:37:2 - ETA: 1: - ETA - ETA: 1:37 -  - E - ETA: 1:3 - ETA: - ETA: 1:37: - E - ETA: 1:37 - ETA: 1:37: - ETA: -  - ETA: 1:37:1 - ETA: 1:37: - ETA: 1:37 - ETA: 1:37: - ETA: 1:37:  - ETA: 1:37:0 - ETA: - ETA: 1:37 - ETA: 1:37:0 - ETA: 1:3  - ETA: 1:37:0 -  - ETA: 1:37: - ETA - ET - ETA: 1:37: - ETA: 1:37:0 - ETA:   - ETA: 1:3 - ETA: 1:37 - - ETA: 1 - ETA: 1: - ETA: 1:36: - ETA: 1:3 - ETA: 1:36:5 - ETA: 1: - ETA:  - ETA: 1:3 - ETA: 1:3 -  - ETA: 1: - ETA: 1 - ETA: 1:36:5 - ETA: 1:36:5 - ETA: 1:36: - ETA: 1:3 -  - ETA: 1:36: - ETA: 1:3 - ETA:  - ETA: 1:36: - ETA: 1:36:4 - ETA: 1:36:4 - ETA: 1:36: - ETA:  - ETA: 1:36:4 - ETA - ETA: 1:36: - ETA: 1:3 - ETA: 1:36:4 - ETA: 1 - ETA: 1:36:4 - ETA: 1:36 - ETA: 1 - ETA: 1:36:4 - ET - ETA - E - ETA: 1 - ETA: 1:36: - ETA: 1:3 - ETA: 1: - ETA: 1:36: - ETA: 1:36:4 - ETA: 1:36: - ETA: 1 - ETA: 1:36 - ETA: 1:36: - ETA: 1:3 - ETA: 1:36:  - ETA: - ETA - ETA: 1:36: - ETA - ET - ETA:  - ETA - ETA: 1:36 - ET - ETA: 1:3 - ETA: 1 - ETA - ETA:  - ETA:  - ETA: 1:36 - ETA: 1:36 - ETA: 1: - E - ETA: 1:36: -  - ETA:  - ETA: 1:36:2  - ETA: 1:36:1 - ETA:  - ETA: - ETA: 1:36 - ETA: 1:3 - ETA:  - ETA: 1:36: - ETA: 1:36 - ETA: 1:36 - ETA: 1:36: - ETA: 1: - ETA: 1:3 - ETA: 1:3 - ETA: 1:36: - ET - ETA: 1:36:0 -  - ETA: 1:36: - ETA: 1:36 - ETA: 1:36: - ETA: 1:36:0 - ETA: 1:36: - ETA: - ETA: 1:36: - - ETA: 1:36:0 - ETA: - ETA: 1:36:0 - - ETA: 1:36: - ETA: 1:36: - ETA: 1: - ETA: 1 - ETA: 1:35: - ETA: - ETA:  -  - ETA:  - ETA: 1:35: - ETA: 1:35 - ETA: 1:3 - ETA: 1:35:4 - ETA: 1: - ETA: 1: - ETA: 1 -  - ETA: 1:35 - E - ETA: 1:3 - ETA:  - ETA: 1:3 - ETA: 1:3 - E - ETA: 1:35:  - ETA: 1 - ETA - ETA: 1:35:1 -  - ETA: 1:35 -  - ETA: 1:35 - ETA:  - ETA: 1:35: - ETA: 1:35  - ETA: 1:35:0 - ETA: 1: - ETA: 1:35: - ET - ETA: 1:34:5 - ETA: 1:34: - ETA: 1 - ETA: 1:34:5 - ETA: 1:34: - ETA: 1:3 - ETA - ETA - ETA: 1:3 - ETA: 1:34 - ETA: 1 - ETA:   - ETA: 1:3 - ETA: 1:34:4 - ETA: 1:34: - - ETA: 1:3 - ETA - ETA: 1: - - ET - E - ET - ETA: 1:34 - ETA - ETA:  - ETA: 1 - ETA: 1 - ETA: 1:34: - ETA: 1: - ETA: 1: - ETA: 1:34: - ETA: 1: - ETA: 1:3 - ETA: 1:3 - ETA: 1 - ETA: 1:34: - ETA: 1: - ETA:  - ETA: 1:34: - ETA: - ETA: 1: - ETA: 1:34:3 - ETA: - E - ETA: 1 - ETA: 1:34 - E -  - ETA: 1:34:2 - ETA: 1:34: - ETA: 1: - ETA: - ET - ETA: 1 - ETA: 1:34:2 - ETA: 1 - ETA: 1:34:2 - ETA -  - ETA: 1:34 - ETA: 1:34: - ETA: 1:34: - ETA: 1:34:2 - ETA:  - ETA: 1:3 - ET - ETA: 1:34:2 - ETA: 1: - ETA  - ETA: 1:3 - ETA - ETA: 1:34:1 - ETA: 1:34:1 - - ETA:  - ETA: 1:34:1 - ETA: 1:34 - ETA: 1:34:1 - ETA: - ETA: 1 - - ETA: 1:34:1 - ET - ETA: 1:34: - ETA: 1:34:1 - ETA: 1:34: - ETA - ET - ETA: 1:34:1 - ETA: 1:3  - ETA: 1:3 - ETA: 1:34 - ETA: 1:34:1 - ETA: 1:34: - ETA: 1:34 - ETA: 1:34 - E - ETA: 1:34 - ETA: 1:34:1 - ETA: 1: - - ETA: 1: - ETA: 1:34:0 - ETA: 1:34:0 - ETA: 1:34:0 -  - ETA: 1 - ETA: 1:34:0 - ETA: 1:3 - ETA: 1:34:0 - ETA: 1:  -  - ETA: 1:3 - ETA: 1:34: - ETA: 1 - - ETA: - ETA: 1:34:0 - ETA: - ETA: 1:3 - ETA: 1:34: - ETA: 1:3 - ETA: 1:3 - ETA: 1 - ETA: - ETA - ETA: 1:34:0 - ETA: 1:34: -  - ETA:  - ET - ETA: 1 - ETA: 1: - ETA:  - ETA:  - ETA: 1:34:0 - ETA: 1:34: - ETA: 1:3 - ETA:  - ETA: 1:34:0 -  - E - ETA: 1:34: - ETA: 1: - ETA:  - ETA - ETA: 1: - ETA: 1:23:3 - ET - ETA: 1:23  -  - ETA: 1:21:0 - ETA: 1:21:0 - ETA: - ETA: 1:21 - ETA: - ETA: 1:2 - ETA: 1:21 - ETA: 1 - ETA: 1: - ETA: 1:2 - ETA: 1:21:0 - ETA - ETA: 1:21: - ETA: 1:21: - ETA: 1: - ETA: 1:2 - ETA: 1: - ETA: 1:21: - ETA: 1:21:0 - - ETA: 1:20 - ETA: - ETA: 1 - ETA: 1: - ETA: 1 - ETA: 1:20 - ETA: 1: - ETA: - ETA: 1:20 - ETA: 1:2 - ETA: 1 - ETA: 1:20: - ETA: 1:20 - ETA: 1:20: - ETA: 1:20: - ETA: 1:20: - ETA:  - ETA: 1: -  - ETA:  -  - ETA: 1:20 - ETA: 1:2 - ETA: 1:20 - ETA: 1:20:  - ETA - ETA: 1:20 - ETA: 1:20 - ETA: 1:2 - ETA: 1:20 - ETA: 1: - ETA: 1: - ETA: 1:2 - ETA: - ETA: 1:20:2 - ETA:  - ETA:  - E - ETA: 1:20:  - - ETA: 1:20: - ETA: 1:20 - ETA: 1:20:1 - E - ETA: 1: - ETA: 1:20:1 - E - ETA - ETA: 1:2 - ETA: 1:20 - ETA: 1:20:1 - ETA: 1:2 - ETA: 1:20:1 - ETA: 1: -  - ETA: 1 - E - ETA: 1: - ETA - ETA: 1:20:1 - ETA: 1:2 - ETA: 1:20:1 - ETA: 1:20: - ETA - ETA:  - ETA: 1: - ETA: 1:20: - ETA: 1 - ETA - ETA: 1:2 - ETA - ETA: 1: - ET - ETA: 1: - ETA: 1:2 - ETA:  - ETA: - E - ETA: 1:20:0 - ET - ETA:  - ET - ETA: 1:19:5 - ETA: 1 - ETA: 1:1 - ET - ETA: 1:19 - ETA:  - ETA: 1:1 - ETA: 1:19: - ETA: - ETA: 1: - ETA: 1:19:5 - ETA: 1: - ETA: 1:19: - ETA:  - E - ETA: 1:19: - ETA: 1:1 - ETA: 1:1 - ETA: 1:19 - ETA: 1:19:5 - ETA: 1:1 - E - ETA: 1 - ETA: 1:19 - ETA: 1:1 - ETA: 1:19: - ETA: 1:19 - ETA: - ETA: 1: - ETA: 1 - ETA: 1:19: - ETA: 1: - ETA: 1:1 - ETA: 1:19: - ET - ETA: 1:1  - ETA: 1:19: - ETA: 1:19: - ETA: 1:19: - ETA: 1:19:4 - ETA:  - ETA: 1:19 - ET - ETA: 1: - ET - ETA: 1:19:4 - ETA: 1:19:4 - ETA: 1: - ETA: 1: - ETA: 1 -  - ETA - ETA: 1:19:3 - E - ETA: 1:19:3 - ETA: 1:19 - ETA: 1:19:3 - ETA: 1: - ETA: 1:1 - ETA: 1:1 -  - ETA:  - ETA: 1:1 - ETA: 1:19:3 - ETA: 1:19 - ETA: 1 - ETA:  - ETA: 1:19: - ETA: 1:19:34"
     ]
    },
    {
     "name": "stdout",
     "output_type": "stream",
     "text": [
      "62219/76545 [=======================>......] - ETA: 21:09  - ETA: 1:19 - ETA: 1  - ETA: 1:19:3 - ETA: 1:1 - ETA:  - ETA: 1: - ETA: 1:19:2 - ETA: 1: - ETA: 1:1 - ET - ETA: 1:19: - ETA: 1 - E - ETA: 1:19: - ETA: - - ETA: 1 - ETA: 1:19:2 - ETA: 1:1 - ETA: 1 - ETA: 1:19:2 - ETA: 1:19: - E - ETA - ETA: - ETA: 1:19:1 -  - ETA:  - ETA: 1:19:1 - ET - ETA: 1:1 - ETA: 1 - ETA:  - - - ETA: 1:1 - ETA: 1: - - ETA: - ETA: 1:19: - ETA: 1:19: - ETA: 1: - ETA: 1: - ETA: 1:1 - ETA: 1:1 -  - ETA: - ETA: 1:18:5  - ETA: 1 - ETA: 1 -  - ET - ETA:  - ETA: 1:18:5 - ETA - ETA - - ETA: 1: - ETA:  - ETA: 1:1 - ETA:  - ETA: 1 - ETA: 1:18:4 - ETA: 1:18 - ETA: 1:1 - ETA:  - ETA: 1:18: - ETA: 1:18 - ETA: 1:1 - ETA: 1:18 -  - ETA: 1:18:4 -  - ETA: 1:18 - ETA: 1:18:4 -  - ETA - ETA: 36: - ETA: 36:4 - ETA:  - ETA: 36 - ETA: 3  - ETA: - ETA: 36 - ETA: 3 - ETA: 36: - ETA - ETA:  - ETA  - ETA: 36: - ETA: 36: - E - ETA: 3 - ETA: 3 - ETA:  - ETA: 36:2 - ETA: 3 - ETA: 36 - ETA - ETA:  - ETA: 36: - ETA: 36:2 - ETA: 36: - ETA: - ETA: 36  - ETA: 36:  - ETA - ETA: 36:1 - - ETA: 3 - ETA: 36 - ETA - ETA: 36 - ET - ETA: 3 - ETA - ETA: 3 - ETA: 3 - ETA: 36:1 - ETA: 36 - ETA: - ETA:  - ETA: 3 - E - ETA: 36: - ET - ETA: 36 - ETA: 36: - E - ETA: - ETA:  - ETA: - - ETA: 36: - ETA: 36:0 - ETA: 36:0 - ETA: 36 - ETA: 36:0 - ETA: 36:0 - ETA: 36: - ETA: 36: - ETA: 36:0 - ETA:  - ETA: 3 - ETA: - ETA: 35:5 - ETA: 35:5 - - ETA:  - ETA: 35:5 - ETA: 35: -   - ETA: 35:4 - ETA: 3 - ETA: 35  - E - ETA: 3 - ETA: 35:4 - ETA: 35: - ETA: 3 - ETA: 3 - ETA - ETA: 35 - ETA: 35: - ETA - ET - ETA: 35 - ETA: 35:3 - E -  - ETA: 35:3 - ETA: 35: - ETA: 35: -  - E - ETA  - ETA: 35 - E - ETA: 35:3 - ETA:  -  - ETA: - ETA: 35:2 - ETA - ETA: 35 - ETA: 35: - ETA: 35: - ETA: 35 -  - ETA:  - ETA: 3  - ETA: - ETA: 3 -  - ETA: 35: - ETA: 35:1 - ETA: - E -  - ETA: - ETA: - ETA: 35:0 - ETA: 35:0 - ETA: 35: - E - ET - ETA: 35: - ETA: 35: - ETA: 3 - E - ETA: 34: - ETA: 34: - ETA: 34:5 - ETA: 34: - ETA:  - ETA: - ET - ETA: 34: - ETA: 34 - ETA:  - ETA: 3 - ETA - ETA - ETA:  - ETA: - ETA: 34: - ETA: 3 - ETA: - ETA:  - ETA:  - ETA: 34:3 - ETA - E - ETA: 34: - ET - ETA - ETA: 34:3 - ET - ET - ETA: 34:3 - ETA - ETA: 34 - ETA: - ETA - ETA: 34: - ETA:  - ETA: 34: - ETA - ETA: 34:2 - ETA: 3 - ETA: 3 - ETA: 34:2 - - ETA: 34 - ETA: 3 - E - ETA: 34:2 - ETA:  - ETA: 34: - ETA: 34 - ETA: 34:1 - ETA: 34 - ETA: 34 - ETA: 34 - ETA: 34:1 - ETA: 34:1 - ETA: 34: - ETA: 34  - ETA: 34: - ETA: 34: - ETA: 34 - ETA: 34:1 - E - ETA:  - ET - ETA: 3 - ETA: - ETA - ETA: 34:0 - ETA - - ETA - ETA: 3 - ETA: - ETA: - - ETA: 33: - ETA:  - ETA: 33 - ETA: 33: - - ETA: 33:  - - ETA: 33: - ETA: 33:  - ETA: 33: - ETA:  - ETA:  - ETA: 3 - E - ETA:  - ETA: 33:4 - ETA:  - ETA: 33:  - ETA: - ETA: - ETA:  - ETA: 33 - E - ETA: 33: - ETA: - ETA: 33 - ETA: - ETA: 33: - ET - ETA: 33 - ETA: 3 - ETA: 33 - ETA: 33 - ETA: 3 - ETA: - ETA: 33: - ETA: 33 - ETA: 33:1 - ETA: 33: - ETA: 3 - ETA - ETA: 3 - ETA: 33:1 -  - - ETA: 33: - E - ETA: 3 - ETA: 33:0 - ETA: 33 - ET -  - ETA: 33 - ETA: 33: - - ETA: - ETA: - ET - ETA: 3 - ETA: - ETA: 32 - ETA: 3 - ETA:  - ETA: 32 - ETA - - ETA:  - ETA  - ETA: - ETA: 32:4 -  - ETA: 32 - ETA: 32: - ET - ETA: 32:4 - - E - ETA: 3 - ETA: 32:3 - ETA: - ETA: 32:3 - ET  - ETA: 3 - ETA: 3 - ETA: 32: - ETA: 3 - ETA: 32: - ETA: 32:  - ETA: 32:3 - ETA: - E - ETA: 32:2 - E - ETA: 3 -  -  - ETA: 32:2 - ETA: 32:  -  - ETA: 32:2 -  - ETA: 32 - ETA: 32:2 - ETA: 32: - ETA - ETA: 3 - ETA: 32: -  - ETA: 32 - ETA: 32:1 -  - ETA: 32:1 - ETA: 3 - ETA: 32:1 - ETA: 32 - ETA -  - ETA: -  - ETA: 3 - ETA: 32 - ETA: 32:0 - ETA: 32:0 - ETA: 32:0 - ETA: 32:0 - ETA: 3 - ETA: 32: - ETA: 32: - ETA: 32 -  -  - ETA:   - ETA: - ETA:  - ETA: 3 - ETA: 31:5 - ETA: 3 - ETA: 3 - ETA - ETA: 3 - ETA: 31: - E - ET - ETA: 31 - ETA: 31: - ETA: - ETA: 31:5 - ETA:  - E - ETA: 31: - ETA: 31:4 - ETA: 3 - ETA: - ET - ET -  - ETA: 31:4 - ETA: 31: - ETA: 31:3 - ETA: 3 -  - ETA: - ET - ETA:  - ETA: 31 - - ETA - ET -   - ETA: 31:2 -  - ETA: 31: - ETA: 31:2 - ETA: 31 - ETA: - ETA: - ETA: 3 - ETA -  - - - ETA: 31:1 - ETA: 31 - ETA: -  - ETA: 31:1 - ETA - ETA: 31: - ETA: - ETA: 3 - ETA:  - ETA: - ET - ETA - ETA: 30: - E - ETA - ETA:  - ETA: 30 - ETA: 30: - ETA: 30 - ETA:  - ETA: - E - E - ETA:  -  - - ETA: 30 - ETA:  - ETA - ETA:  - ETA: - ETA: 30:1 -  - ETA: 30:1 - ETA: 30:1 - ETA - ETA: 30: - - ETA: 3 - ETA - ETA: 30 - ET - ETA - ETA: 3 - E - ETA: 3 - ETA: 30: - ETA: 30 - ETA: 3 -  - ETA: 29 - ETA: 29: - ETA: - ETA: 29: - ET - ETA: 2 - ETA: 2 - ETA: 2 - ET - ETA: 29:5 - ET - E - ETA: 2 - ET - - ETA: 2 - ETA: 29 - ETA: 29 - ETA: 29:4 - ETA: 2 - ETA: 29: - ETA: 29 - ET -  - ETA: 29: - ETA - E - ETA: 29: - ETA:  -  - ETA: 29:3 - ETA - ETA: 29:3 - ETA: 29:3 -  - ETA: 29: - ETA: 2 - ETA:  - ETA: 29: -  - ETA: 29:3 - ETA: - ETA: - - ET - - ETA: - ETA: 29: - ETA: 29:2 - ETA: 29:2 - ETA: 29 - ETA:  - ETA: 29: - ETA: 29: -  - ETA: 29:2 - ETA: 29: - ETA: 29:2 - ET - ETA:  - E - ET - - ETA: 29:  - ETA: 29: - E  - ET - ETA: - ETA: 29 - ETA: 29:1 - ETA: 2 - ETA: 29: - ETA: 29:1 - ETA: -  - ETA: 29 - ETA: - ETA: 29:0  - ETA - ETA:  - ETA: 29: - ETA: - ETA: 29:0 - ETA: 29: - ETA: 29:0 - ETA: 29: - ETA: 2 - ETA -  - ETA: 29 - ETA: 29: - ETA: 29:0 - E - ETA: - ETA: 29 - ETA:  - ETA: 28: - ETA: 28 - ETA: 28:5 - ETA: - ETA: 28: - ETA: 28: - ET - ETA: 2 - ETA - ET - E - ET - ET - ETA: 2 - ETA: - ETA: 2 - ETA: 28: - ETA: 28: - ETA: 28:4 - ETA: - ETA - ETA: 28:3 - ETA: 2 - ETA - ETA:  - ETA: 28 - ETA: 28:3 - ETA: 28 - ETA: 28 - ETA: - ETA: 2 - ETA: 28:3 - ETA: 28:3 - ETA: - ETA: 28: - ETA: 28 - ETA: 2 - ETA: 28 - ETA: 28:2 - ETA:  - - ETA:  - ETA: 2 - ETA:  - ETA - - E - ETA: 2 - ETA: 28:1 - ETA: 28: - ETA: 28 - -  - ET - ETA: -  - - ETA:  - ETA: - ETA: 28: - E - ETA: 27 - ETA: 27: - ETA: 27 - ETA: - ETA - ETA: 27: - ETA: 27:5 - ETA - E - ETA: 27 - ETA: 27: - ETA - ET - ETA - ETA: 27:4 - E - ETA: 27 - - ETA: 27:4 - - ETA: - ETA: 27 - ETA: 27:3 - ETA:  - ETA: 27 - ETA: - ETA: 27: - ETA: 2 - ETA: - ETA: 2 - ETA: 27:3 - ETA: 2 - ETA: 27 - ETA: 27 - ETA - ETA: 2 - ETA: 27:3 - ETA - ETA: 27 - ETA: 27 - ETA: - ETA: - - ETA: 2 - ETA: 27 - - - ETA - ETA: 27:2 - ETA: 27:2 - ETA: 27: - ETA: 27 - ETA:  -  - ETA: - ETA: 23 - ETA:  - E - - ETA: 23 - ETA: 23 - ETA: 23  - E - ETA: 2 - ET - ETA: 23:2 - ETA -  - ETA: 23:2 - ETA: 23 - ETA: 23: - ETA: 23: - ETA: 23 - ETA: 23: - ETA: - E - ETA: 23: - ET - ETA: 2 - - ETA: 23: - ETA: 2 - ETA: 2 - ETA: 23: - ETA: 23: - ETA: 23: - ETA: 2 - ETA:  -  - E - ET - ETA: 23: - - ETA: - ETA: 23:1  - ETA: 23:0 - ETA: 2 - ETA: 23: - ETA:  - ETA - ETA: 23 - ETA: 23:0 - ETA: 23:0 - ETA: 23:0  - ETA: 23: - ETA: - ETA:  - ETA: 23: - ETA - ETA: 23: - ETA: - ETA: - ETA: 23:0 - ETA: 23: - ET - ETA: 22:5 - ETA: 22:5 - ETA - ETA: 22: - ETA - E -  - - ETA: 2 - ETA:  - ETA: 2 - ET - ETA - ETA: 22:5 - ETA: 22:5 - ETA: 22:5 - ETA: - ETA: 22: - ETA - ETA:  - ETA: 22:4 - ETA:  - ETA: 22:4 - ETA: 22: - ETA: 2 - ETA: 22:4 - ETA:  - ET - ETA: 22: - ETA: 22:4 - ETA - ETA: 22:4 - ETA: 22: - E - ETA: 22 - ETA: 22:4 -  - ETA - ETA: 22 - - ETA: 22 - ETA: - ETA: 22:3 - ET - ETA: 22: -  - E - ETA: 22: - ETA: 22 - ETA: 22: - ETA: 22 -  - ETA: 2 - ETA: 22:3 - ETA: - ET - ETA: 22: - ETA: 22: - ETA: 22 -  - ETA: 22 - - ETA: 22:2 - ETA:  - ETA: 22:2 - ETA: 22 - ETA: 22 - ETA: 22 -  - ETA: 22:2  - ETA: - ETA: 22: - ETA - ETA: 2 - ETA: 22: - ETA: - ETA: 2 - ETA -  - E - ETA: 22:1 - ETA: 22 - ETA: 22:0 - ETA: 22:0 - ETA: 22:0 - ETA:  - ETA: - ETA: 22: - E - ETA: 22:0 - ETA: 22:0 - ETA: 22 - ETA - ETA: 22 - ETA: 22:0 - ETA: 22 - - E -  - ETA:  - - ETA: 21:5 - ETA: 21: - ETA: 2 - ETA: 21: - ETA: - ETA: 21:5 - ETA:  - ETA:  - ETA - ETA: 21:  - ET - ETA: 21 - ETA: 21 - ETA: 21: - ETA: 2 - ET - ETA - ETA: 2 - ETA:  - ETA: 21 - ETA:  - ETA: 21 - ETA - ETA: 21: - ETA: 2 - ETA:  - ETA:  - ETA: 2 - ETA: 21:3 - - ETA - ET - ETA: 21 - ETA:  - ETA - ETA: - ETA: 2 - ETA: 21 - ETA - ETA: 21 - E - E - ETA - ETA: 21: - ETA: 21: - E - ETA: 21:2 - ETA:  - ETA: 21 - ETA: 21:2 - ETA - ETA: - E - ETA: 2 - ETA: 21:2 - ETA:  - ETA: 2 - ETA: 21: - ETA:  - - ETA: 2 - ETA: 21: - ETA: 21: - ETA: 21:2 - ETA: 21 - ETA: 21 -  - ET - ETA: 21:2 -  -  -  - ET - ETA: 2 - ETA: - ETA: 21:1 - ETA: - ET - ETA: 21 - ETA - ETA: 21:1 - ET - ETA - - ETA: 2 - ETA: - ETA - ETA: 21:08"
     ]
    },
    {
     "name": "stdout",
     "output_type": "stream",
     "text": [
      "76545/76545 [==============================] - 6875s 90ms/stepA: 21: - ETA: 21:0 - ETA:  - ETA: 2 - E - ET - ETA: 21: - ETA: 21 - ETA: 2 - ETA: 21 - ETA: - ETA - ETA: 21:0 - ETA: 21 - ETA: 2 - ET -  - ETA - ETA: - ETA: 2 - E - ETA:  - ETA: 20: - ETA: 20 - ETA: 20: - ET - E - ETA: 20:5 - ETA: 20: - ETA - ET - ETA:  - ETA - ETA - ETA: 2 - ETA - ETA:  - ETA:  - ETA - ETA: 2 - ETA: 20: - ETA: 20 - ETA - ETA:  - ETA: 2 - ETA: 20: - ETA: 2 - ET - ETA: 20: - ETA - ET - ETA: - ET - ETA:  - ETA: 20:3 - - ETA: 20:3 - ETA - ETA: 20 - ETA:  - ETA: - ETA: 20:2 - E - ETA: 20 - ETA: 20: - ETA:  - ETA: 20 - ETA: 20 - ETA - ETA: 20 - ET - ETA: - ETA:  - ETA: 20:2 - ETA: 20: - ETA: 2 - ETA: 20:2 - - ETA: 20:1 - ETA: 2 - ETA: 20:1 - ETA: 20 - ETA:  - ETA: 20:1 - ETA: 20 - ET - ETA: 2 -  - ETA: 20:1 - ETA: 20:1 - ETA: 2 - ETA: 2 - E - ETA:  - ETA: 20: - ETA: 20 - ETA: 20 - ETA - ETA: 20:  - ETA: 20: - ETA: 20:0  - ETA: 20 - ETA: 20 - ETA: 20: - ETA: 20:0 - ETA: 20: - ETA: 20:0 - ETA: - ETA: 20:0 -  - ETA - ET - - ET - ETA: 19: - ETA: 19 - ETA - ETA: 19 -  - ETA:  - ETA: 19:5 - ETA:  - ETA: 19: - ETA: 1 - ETA: - ETA: 19:4 - ETA: - ETA: 1 - ETA: 19: - ETA:  - ETA: 19 - ETA: 19:4 - ETA: -  - ETA: 1 - - ETA: - ETA: 19:3 - ETA:  -  - ETA - ETA: 1 - ETA: 19: - ET - ETA: 1 - ETA: - ETA: - ETA: 19:2 - ETA: 19:2 - ETA:  - ETA: 19: - ETA: 19 - ETA: 1 -  - ETA - ETA: 19 - ETA: 19:1 - ETA: 1 - -  - ETA: 19: - ETA: 19:1 - ETA: 1 - ETA: 19 - ETA:  - ETA: 1 - ETA: 1 - ETA: 19:1 - ETA: 19: - ETA:  - ETA: 19 - - ETA: 19:0 - ETA - ETA: 19: - ETA: 19:0 - ETA: 1 - ETA: 19: - ETA - ETA: 19: - E - E - ETA: 19: - ETA: 1 - - ETA: 18:5 - ET - ETA: 18:5 - ETA: - ETA: 18: - ET - - ETA: 18: - ETA:  - - ETA -  - ET - ETA: 18:4 - ETA: 1 - ETA:  - ETA: - ETA: 18:3 - ETA:  - ETA: 18: -  - ETA: 18:3 - ETA: 18 - ETA: 18: - - ETA: 1 - E - ETA - ET -  - ETA: - ETA: 18:2 - ETA: 1 - ETA: 18 - ETA:  - ETA: 18 - ETA:  - ETA: 1 - ETA: 18: - ETA:  - ETA: - ETA:  - ETA: - E - ETA: 18: -  - - ETA: 18 - ETA: 18:1 - ETA: - ETA: 18:0 - ETA: -  - ETA: 18:0 - ETA: 18: - ETA - ETA: 18:0 - ETA: 18:0  - ETA: 17:5 - ETA: 17:5  - E - ETA: 17 -  - E - ETA: 17: - ETA: 17:5 - ETA:  - ETA: 17:5 - ETA: 17: - ETA: 17:4 - ETA: 17:4 -  - ETA: - ETA: 17 - - E -  - ETA - ETA: 1 - ETA: 17 - ETA: 1 - ETA: - ETA: 17:4 - ETA: 17:4 -  - ETA: 17:3 - ETA  - ETA: 17:3 - ETA: 17 - ETA: 17:3 -  - ETA:  - ETA: 17 - ETA:  - ETA: 17:3 - ETA: 1 -  - - ETA: 17: - - ETA: 17:2 - ETA: 17 - ETA: 17: - ETA: 17: - ETA:  - ETA: 17 - ETA:  - ETA: - ETA: 1 - ETA: 17:1  - ETA: 1 - ETA: 1 - ETA: 17:1 - ETA: - ETA: 17: - ETA: 1  - - ETA: 1 - ETA: 17:0 - ETA: 17:0 -  - ETA - ETA: 16:4 - ETA: 16 - ETA - ETA: 1 - -  - ETA:  -  - ETA: 16: - ETA: 16 - ETA: 16  - ET - ETA: 16: - ETA: 16: - ETA - ETA - ETA - ET - E - ETA: 16: - ETA: - ETA: 16: - ETA: 1 - ETA: 16:2 - E - ETA: 16 - ETA: 16 - ETA: 16: - ETA: 1 - ETA:  - E - - ETA: 16: - ETA: 16 - ETA: - ETA: 16 - ETA: 16: - ETA - ETA  - ET - ETA: 16:1 - ETA: 16:1 - ETA: - ETA: 1 - ET - ETA: 1 - ETA: 16:0 - ETA - ET -  - ETA: 16: -  -  - ETA: 15 - ETA: 15: - ETA: 1 -  - ETA: 15:5 - ETA: 15:5 - ETA: 15:5 - ETA: 15: - ETA: 15: - ETA: 15 - ETA: 1 - ETA: 15:5 - ETA: 15: - E - ETA: 15 - ETA: 15: - ETA - ETA: 15 - ETA: 15:4 - ETA: 15: - ETA: 15:4 - ETA:  - ET - ET - ETA: 1 - ETA: 1 - ETA: 15: -  - ETA: 15:4 - ETA: 15:4 - ETA: 15: - ETA: - ET - ETA: - E - ET - ET - ETA: 15: - ETA - ETA:  - ETA: 15:3 - E - ETA: 15: - ETA: 15: - ET - ETA: - ETA: 15:2 - ETA: 15:2 - ETA - ETA: - ETA: 15:2 - E - ETA: 15:2 - ETA:   - ETA: - ETA: 15:2 - ETA: 1 - ETA: 1 - ETA:  - ETA:  - - ETA: 15:  - ETA: 15 - ETA: 1 -  - ETA: 15:1 - ETA - ET - ET\n"
     ]
    }
   ],
   "source": [
    "beauty_pred = beauty_clf.predict_generator(beauty_generator, steps=beauty_generator.samples, verbose=1)\n",
    "np.save('beauty_image_pred', beauty_pred)"
   ]
  },
  {
   "cell_type": "code",
   "execution_count": 1,
   "metadata": {
    "collapsed": true
   },
   "outputs": [],
   "source": [
    "import numpy as np"
   ]
  },
  {
   "cell_type": "code",
   "execution_count": 18,
   "metadata": {
    "collapsed": true
   },
   "outputs": [],
   "source": [
    "test = np.load('mobile_image_pred.npy')"
   ]
  },
  {
   "cell_type": "code",
   "execution_count": 19,
   "metadata": {},
   "outputs": [
    {
     "data": {
      "text/plain": [
       "(808283, 27)"
      ]
     },
     "execution_count": 19,
     "metadata": {},
     "output_type": "execute_result"
    }
   ],
   "source": [
    "test.shape"
   ]
  },
  {
   "cell_type": "code",
   "execution_count": 20,
   "metadata": {},
   "outputs": [
    {
     "data": {
      "text/plain": [
       "808340"
      ]
     },
     "execution_count": 20,
     "metadata": {},
     "output_type": "execute_result"
    }
   ],
   "source": [
    "40417 * 20"
   ]
  },
  {
   "cell_type": "code",
   "execution_count": null,
   "metadata": {
    "collapsed": true
   },
   "outputs": [],
   "source": []
  }
 ],
 "metadata": {
  "kernelspec": {
   "display_name": "Python 3",
   "language": "python",
   "name": "python3"
  },
  "language_info": {
   "codemirror_mode": {
    "name": "ipython",
    "version": 3
   },
   "file_extension": ".py",
   "mimetype": "text/x-python",
   "name": "python",
   "nbconvert_exporter": "python",
   "pygments_lexer": "ipython3",
   "version": "3.6.6"
  }
 },
 "nbformat": 4,
 "nbformat_minor": 1
}
